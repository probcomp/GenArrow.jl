{
 "cells": [
  {
   "cell_type": "code",
   "execution_count": 54,
   "metadata": {},
   "outputs": [],
   "source": [
    "# mutable struct Trie{K,V}\n",
    "#     value::V\n",
    "#     children::Dict{K,Trie{K,V}}\n",
    "#     is_key::Bool\n",
    "\n",
    "#     function Trie{K,V}() where {K,V}\n",
    "#         self = new{K,V}()\n",
    "#         self.children = Dict{K,Trie{K,V}}()\n",
    "#         self.is_key = false\n",
    "#         return self\n",
    "#     end\n",
    "\n",
    "#     function Trie{K,V}(ks, vs) where {K,V}\n",
    "#         return Trie{K,V}(zip(ks, vs))\n",
    "#     end\n",
    "\n",
    "#     function Trie{K,V}(kv) where {K,V}\n",
    "#         t = Trie{K,V}()\n",
    "#         for (k,v) in kv\n",
    "#             t[k] = v\n",
    "#         end\n",
    "#         return t\n",
    "#     end\n",
    "# end\n",
    "\n",
    "# Trie() = Trie{Any,Any}()\n",
    "# Trie(ks::AbstractVector{K}, vs::AbstractVector{V}) where {K,V} = Trie{eltype(K),V}(ks, vs)\n",
    "# Trie(kv::AbstractVector{Tuple{K,V}}) where {K,V} = Trie{eltype(K),V}(kv)\n",
    "# Trie(kv::AbstractDict{K,V}) where {K,V} = Trie{eltype(K),V}(kv)\n",
    "# Trie(ks::AbstractVector{K}) where {K} = Trie{eltype(K),Nothing}(ks, similar(ks, Nothing))\n",
    "\n",
    "# function Base.setindex!(t::Trie{K,V}, val, key) where {K,V}\n",
    "#     value = convert(V, val) # we don't want to iterate before finding out it fails\n",
    "#     node = t\n",
    "#     for char in key\n",
    "#         if !haskey(node.children, char)\n",
    "#             node.children[char] = Trie{K,V}()\n",
    "#         end\n",
    "#         node = node.children[char]\n",
    "#     end\n",
    "#     node.is_key = true\n",
    "#     node.value = value\n",
    "# end\n",
    "\n",
    "# function Base.getindex(t::Trie, key)\n",
    "#     node = subtrie(t, key)\n",
    "#     if node != nothing && node.is_key\n",
    "#         return node.value\n",
    "#     end\n",
    "#     throw(KeyError(\"key not found: $key\"))\n",
    "# end\n",
    "\n",
    "# function subtrie(t::Trie, prefix)\n",
    "#     node = t\n",
    "#     for char in prefix\n",
    "#         if !haskey(node.children, char)\n",
    "#             return nothing\n",
    "#         else\n",
    "#             node = node.children[char]\n",
    "#         end\n",
    "#     end\n",
    "#     return node\n",
    "# end\n",
    "\n",
    "# function Base.haskey(t::Trie, key)\n",
    "#     node = subtrie(t, key)\n",
    "#     node != nothing && node.is_key\n",
    "# end\n",
    "\n",
    "# function Base.get(t::Trie, key, notfound)\n",
    "#     node = subtrie(t, key)\n",
    "#     if node != nothing && node.is_key\n",
    "#         return node.value\n",
    "#     end\n",
    "#     return notfound\n",
    "# end\n",
    "\n",
    "# _concat(prefix::String, char::Char) = string(prefix, char)\n",
    "# _concat(prefix::Vector{T}, char::T) where {T} = vcat(prefix, char)\n",
    "\n",
    "# _empty_prefix(::Trie{Char,V}) where {V} = \"\"\n",
    "# _empty_prefix(::Trie{K,V}) where {K,V} = K[]\n",
    "\n",
    "# function Base.keys(t::Trie{K,V},\n",
    "#                    prefix=_empty_prefix(t),\n",
    "#                    found=Vector{typeof(prefix)}()) where {K,V}\n",
    "#     if t.is_key\n",
    "#         push!(found, prefix)\n",
    "#     end\n",
    "#     for (char,child) in t.children\n",
    "#         keys(child, _concat(prefix, char), found)\n",
    "#     end\n",
    "#     return found\n",
    "# end\n",
    "\n",
    "# function keys_with_prefix(t::Trie, prefix)\n",
    "#     st = subtrie(t, prefix)\n",
    "#     st != nothing ? keys(st,prefix) : []\n",
    "# end\n",
    "\n",
    "# # The state of a TrieIterator is a pair (t::Trie, i::Int),\n",
    "# # where t is the Trie which was the output of the previous iteration\n",
    "# # and i is the index of the current character of the string.\n",
    "# # The indexing is potentially confusing;\n",
    "# # see the comments and implementation below for details.\n",
    "# struct TrieIterator\n",
    "#     t::Trie\n",
    "#     str\n",
    "# end\n",
    "\n",
    "# # At the start, there is no previous iteration,\n",
    "# # so the first element of the state is undefined.\n",
    "# # We use a \"dummy value\" of it.t to keep the type of the state stable.\n",
    "# # The second element is 0\n",
    "# # since the root of the trie corresponds to a length 0 prefix of str.\n",
    "# function Base.iterate(it::TrieIterator, (t, i) = (it.t, 0))\n",
    "#     if i == 0\n",
    "#         return it.t, (it.t, firstindex(it.str))\n",
    "#     elseif i > lastindex(it.str) || !(it.str[i] in keys(t.children))\n",
    "#         return nothing\n",
    "#     else\n",
    "#         t = t.children[it.str[i]]\n",
    "#         return (t, (t, nextind(it.str, i)))\n",
    "#     end\n",
    "# end\n",
    "\n",
    "# partial_path(t::Trie, str) = TrieIterator(t, str)\n",
    "# Base.IteratorSize(::Type{TrieIterator}) = Base.SizeUnknown()\n",
    "\n",
    "# \"\"\"\n",
    "#     find_prefixes(t::Trie, str)\n",
    "# Find all keys from the `Trie` that are prefix of the given string\n",
    "# # Examples\n",
    "# ```julia-repl\n",
    "# julia> t = Trie([\"A\", \"ABC\", \"ABCD\", \"BCE\"])\n",
    "# julia> find_prefixes(t, \"ABCDE\")\n",
    "# 3-element Vector{AbstractString}:\n",
    "#  \"A\"\n",
    "#  \"ABC\"\n",
    "#  \"ABCD\"\n",
    "# julia> t′ = Trie([1:1, 1:3, 1:4, 2:4]);\n",
    "# julia> find_prefixes(t′, 1:5)\n",
    "# 3-element Vector{UnitRange{Int64}}:\n",
    "#  1:1\n",
    "#  1:3\n",
    "#  1:4\n",
    "# julia> find_prefixes(t′, [1,2,3,4,5])\n",
    "# 3-element Vector{Vector{Int64}}:\n",
    "#  [1]\n",
    "#  [1, 2, 3]\n",
    "#  [1, 2, 3, 4]\n",
    "# ```\n",
    "# \"\"\"\n",
    "# function find_prefixes(t::Trie, str::T) where {T}\n",
    "#     prefixes = T[]\n",
    "#     it = partial_path(t, str)\n",
    "#     idx = 0\n",
    "#     for t in it\n",
    "#         if t.is_key\n",
    "#             push!(prefixes, str[firstindex(str):idx])\n",
    "#         end\n",
    "#         idx = nextind(str, idx)\n",
    "#     end\n",
    "#     return prefixes\n",
    "# end"
   ]
  },
  {
   "cell_type": "code",
   "execution_count": 38,
   "metadata": {},
   "outputs": [
    {
     "data": {
      "text/plain": [
       "subtrie (generic function with 1 method)"
      ]
     },
     "metadata": {},
     "output_type": "display_data"
    }
   ],
   "source": [
    "abstract type AddressTree end\n",
    "mutable struct InnerNode <: AddressTree\n",
    "    children::Dict\n",
    "    has_value::Bool\n",
    "    function InnerNode()\n",
    "        self = new{}()\n",
    "        self.has_value = false\n",
    "        self.children = Dict()\n",
    "        return self\n",
    "    end\n",
    "end\n",
    "mutable struct TerminalNode{V} <: AddressTree\n",
    "    val::V\n",
    "    has_value::Bool\n",
    "    function TerminalNode(val::V) where {V}\n",
    "        self = new{V}()\n",
    "        self.has_value = true\n",
    "        self.val = val\n",
    "        return self\n",
    "    end\n",
    "end\n",
    "\n",
    "function Base.setindex!(t::AddressTree, val, key)\n",
    "    prefix = key\n",
    "    node = t\n",
    "    for (i,p) in enumerate(prefix)\n",
    "        if !haskey(node.children, p)\n",
    "            if i < length(prefix)\n",
    "                node.children[p] = InnerNode()\n",
    "            elseif i == length(prefix)\n",
    "                node.children[p] = TerminalNode(val)\n",
    "            end\n",
    "        end\n",
    "        node = node.children[p]\n",
    "    end\n",
    "    if !node.has_value\n",
    "        throw(KeyError(\"Key: $key stores at intermediate node\"))\n",
    "    end\n",
    "    node.val = val\n",
    "end\n",
    "\n",
    "function Base.getindex(t::AddressTree,key)\n",
    "    node = subtrie(t, key)\n",
    "    if node != nothing && node.has_value\n",
    "        return node.val\n",
    "    end\n",
    "    throw(KeyError(\"$key\"))\n",
    "end\n",
    "\n",
    "function subtrie(node::AddressTree, prefix) # Naive subtrie?\n",
    "    for p in prefix\n",
    "        if !node.has_value && haskey(node.children, p)\n",
    "            node = node.children[p]\n",
    "        else\n",
    "            return nothing\n",
    "        end\n",
    "    end\n",
    "    return node\n",
    "end"
   ]
  },
  {
   "cell_type": "code",
   "execution_count": 40,
   "metadata": {},
   "outputs": [
    {
     "name": "stdout",
     "output_type": "stream",
     "text": [
      "InnerNode(Dict{Any, Any}('a' => InnerNode(Dict{Any, Any}('c' => TerminalNode{Int64}(5, true), 'b' => TerminalNode{String}(\"c\", true)), false), 'b' => TerminalNode{String}(\"b\", true), 1 => InnerNode(Dict{Any, Any}(2 => InnerNode(Dict{Any, Any}(3 => TerminalNode{String}(\"what?\", true)), false)), false)), false)\n"
     ]
    }
   ],
   "source": [
    "t = InnerNode()\n",
    "t[\"b\"] = \"a\"\n",
    "t[\"b\"] = \"b\"\n",
    "t[\"ab\"] = \"c\"\n",
    "t[\"ac\"] = 5\n",
    "t[(:a,:b, 3)] = \"hii???\"\n",
    "t[(1,2,3)] = \"what?\"\n",
    "println(t)"
   ]
  },
  {
   "cell_type": "code",
   "execution_count": 41,
   "metadata": {},
   "outputs": [
    {
     "data": {
      "text/plain": [
       "\"what?\""
      ]
     },
     "metadata": {},
     "output_type": "display_data"
    }
   ],
   "source": [
    "t[(1,2,3)]"
   ]
  },
  {
   "cell_type": "code",
   "execution_count": 22,
   "metadata": {},
   "outputs": [],
   "source": [
    "using Gen"
   ]
  },
  {
   "cell_type": "code",
   "execution_count": 52,
   "metadata": {},
   "outputs": [
    {
     "data": {
      "text/plain": [
       "DynamicDSLFunction{Any}(Dict{Symbol, Any}(), Dict{Symbol, Any}(), Type[], false, Union{Nothing, Some{Any}}[], var\"##G#318\", Bool[], false)"
      ]
     },
     "metadata": {},
     "output_type": "display_data"
    }
   ],
   "source": [
    "@gen function G()\n",
    "  q ~ normal(0.0, 1.0)\n",
    "  if q < 0\n",
    "      {:x=>1} ~ normal(0.0, 1.0)\n",
    "  else\n",
    "      {:x=>2} ~ normal(0.0, 1.0)\n",
    "  end\n",
    "end"
   ]
  },
  {
   "cell_type": "code",
   "execution_count": 48,
   "metadata": {},
   "outputs": [
    {
     "data": {
      "text/plain": [
       "traverse (generic function with 3 methods)"
      ]
     },
     "metadata": {},
     "output_type": "display_data"
    }
   ],
   "source": [
    "function traverse(chm::Gen.ChoiceMap, prefix, tree)\n",
    "  for (k, val) in Gen.get_values_shallow(chm)\n",
    "    println((prefix..., k), \" \",  val) # Figure out how to append more efficiently?\n",
    "    # Append to tree (prefix..., k) => val\n",
    "  end\n",
    "  for (k, submap) in Gen.get_submaps_shallow(chm)\n",
    "    traverse(submap, (prefix..., k), tree)\n",
    "  end\n",
    "end\n",
    "\n",
    "function traverse(t::Gen.Trace)\n",
    "  traverse(Gen.get_choices(t))\n",
    "end"
   ]
  },
  {
   "cell_type": "code",
   "execution_count": 49,
   "metadata": {},
   "outputs": [
    {
     "data": {
      "text/plain": [
       "│\n",
       "├── :y : y\n",
       "│\n",
       "├── :z\n",
       "│   │\n",
       "│   ├── :a : a\n",
       "│   │\n",
       "│   ├── 2 : b\n",
       "│   │\n",
       "│   └── 3\n",
       "│       │\n",
       "│       └── [0.0 0.0; 0.0 0.0] : zero\n",
       "│\n",
       "└── :x\n",
       "    │\n",
       "    └── 1\n",
       "        │\n",
       "        ├── 2 : 2\n",
       "        │\n",
       "        └── 3 : 3\n"
      ]
     },
     "metadata": {},
     "output_type": "display_data"
    }
   ],
   "source": [
    "chm = choicemap()\n",
    "chm[:x=>1=>2] = 2\n",
    "chm[:x=>1=>3] = 3\n",
    "chm[:y] = \"y\"\n",
    "chm[:z=>:a] = \"a\"\n",
    "chm[:z=>2] = \"b\"\n",
    "chm[:z=>3=>zeros(2,2)] = \"zero\"\n",
    "chm"
   ]
  },
  {
   "cell_type": "code",
   "execution_count": 51,
   "metadata": {},
   "outputs": [
    {
     "name": "stdout",
     "output_type": "stream",
     "text": [
      "(:y,) y\n",
      "(:z, :a) a\n",
      "(:z, 2) b\n",
      "(:z, 3, [0.0 0.0; 0.0 0.0]) zero\n",
      "(:x, 1, 2) 2\n",
      "(:x, 1, 3) 3\n"
     ]
    }
   ],
   "source": [
    "traverse(chm, (), 0)"
   ]
  }
 ],
 "metadata": {
  "kernelspec": {
   "display_name": "Julia 1.8.1",
   "language": "julia",
   "name": "julia-1.8"
  },
  "language_info": {
   "file_extension": ".jl",
   "mimetype": "application/julia",
   "name": "julia",
   "version": "1.8.1"
  },
  "orig_nbformat": 4,
  "vscode": {
   "interpreter": {
    "hash": "d116bb8df8d5444654826dc856461eb84af985ba7a894d09e16842dd70c3aada"
   }
  }
 },
 "nbformat": 4,
 "nbformat_minor": 2
}
