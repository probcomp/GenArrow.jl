{
 "cells": [
  {
   "cell_type": "code",
   "execution_count": 19,
   "metadata": {},
   "outputs": [
    {
     "name": "stderr",
     "output_type": "stream",
     "text": [
      "WARNING: replacing module LazyTraceDSL.\n"
     ]
    }
   ],
   "source": [
    "using Gen\n",
    "include(\"./dsl.jl\")\n",
    "using .LazyTraceDSL"
   ]
  },
  {
   "cell_type": "code",
   "execution_count": 20,
   "metadata": {},
   "outputs": [
    {
     "data": {
      "text/plain": [
       "DynamicDSLFunction{Any}"
      ]
     },
     "metadata": {},
     "output_type": "display_data"
    }
   ],
   "source": [
    "@gen function model()\n",
    "    x ~ bernoulli(0.5)\n",
    "end\n",
    "model_type = typeof(model)"
   ]
  },
  {
   "cell_type": "code",
   "execution_count": 21,
   "metadata": {},
   "outputs": [
    {
     "data": {
      "text/plain": [
       "Main.LazyTraceDSL.LazyTrace{DynamicDSLFunction{Any}}(Ptr: -1, Length: -1\n",
       "[L]\n",
       "[I]\n",
       ", true, 0.0, 0.0, (3, 0), #undef)"
      ]
     },
     "metadata": {},
     "output_type": "display_data"
    }
   ],
   "source": [
    "tr = LazyTraceDSL.LazyTrace{model_type}((3,0))"
   ]
  },
  {
   "cell_type": "code",
   "execution_count": 24,
   "metadata": {},
   "outputs": [
    {
     "ename": "ErrorException",
     "evalue": "Value or subtrace already present at address x.\n            The same address cannot be reused for multiple random choices.",
     "output_type": "error",
     "traceback": [
      "Value or subtrace already present at address x.\n",
      "            The same address cannot be reused for multiple random choices.\n",
      "\n",
      "Stacktrace:\n",
      " [1] error(s::String)\n",
      "   @ Base ./error.jl:35\n",
      " [2] add_choice!(trace::Main.LazyTraceDSL.LazyTrace{DynamicDSLFunction{Any}}, addr::Symbol, retval::Int64, score::Float64)\n",
      "   @ Main.LazyTraceDSL ~/Documents/probcomp/GenArrow.jl/src/lazy/LazyTrace.jl:45\n",
      " [3] top-level scope\n",
      "   @ ~/Documents/probcomp/GenArrow.jl/src/lazy/test.ipynb:1"
     ]
    }
   ],
   "source": [
    "LazyTraceDSL.add_choice!(tr, :x, 1, 0.2)"
   ]
  }
 ],
 "metadata": {
  "kernelspec": {
   "display_name": "Julia 1.8.1",
   "language": "julia",
   "name": "julia-1.8"
  },
  "language_info": {
   "file_extension": ".jl",
   "mimetype": "application/julia",
   "name": "julia",
   "version": "1.8.1"
  },
  "orig_nbformat": 4
 },
 "nbformat": 4,
 "nbformat_minor": 2
}
