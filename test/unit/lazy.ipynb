{
 "cells": [
  {
   "cell_type": "code",
   "execution_count": 1,
   "metadata": {},
   "outputs": [],
   "source": [
    "using Gen\n",
    "using Serialization\n",
    "using Logging\n",
    "using BenchmarkTools"
   ]
  },
  {
   "cell_type": "code",
   "execution_count": 27,
   "metadata": {},
   "outputs": [],
   "source": [
    "using GenArrow"
   ]
  },
  {
   "cell_type": "code",
   "execution_count": 3,
   "metadata": {},
   "outputs": [
    {
     "data": {
      "text/plain": [
       "read_from_file (generic function with 1 method)"
      ]
     },
     "metadata": {},
     "output_type": "display_data"
    }
   ],
   "source": [
    "function write_to_file(fname, input)\n",
    "    seekstart(input)\n",
    "    data = read(input, String)\n",
    "    open(fname, \"w\") do io\n",
    "        write(io, data)\n",
    "    end\n",
    "end\n",
    "function read_from_file(fname)\n",
    "    io = IOBuffer()\n",
    "    open(fname, \"r\") do file\n",
    "        data = read(file, String)\n",
    "        write(io, data)\n",
    "    end\n",
    "    seekstart(io)\n",
    "    io\n",
    "end"
   ]
  },
  {
   "attachments": {},
   "cell_type": "markdown",
   "metadata": {},
   "source": [
    "### Leaf Nodes"
   ]
  },
  {
   "cell_type": "code",
   "execution_count": 23,
   "metadata": {},
   "outputs": [
    {
     "data": {
      "text/plain": [
       "DynamicDSLFunction{Any}(Dict{Symbol, Any}(), Dict{Symbol, Any}(), Type[Any], false, Union{Nothing, Some{Any}}[nothing], var\"##model#316\", Bool[0], false)"
      ]
     },
     "metadata": {},
     "output_type": "display_data"
    }
   ],
   "source": [
    "@gen function submodel(w)\n",
    "    a ~ bernoulli(0.5)\n",
    "    b ~ bernoulli(0.5)\n",
    "end\n",
    "\n",
    "@gen function model(n)\n",
    "    z ~ bernoulli(0.5)\n",
    "    # for k=1:n\n",
    "    #     @trace(bernoulli(0.5), k)\n",
    "    # end\n",
    "    q ~ submodel(\"what the\")\n",
    "end"
   ]
  },
  {
   "cell_type": "code",
   "execution_count": 28,
   "metadata": {},
   "outputs": [
    {
     "data": {
      "text/plain": [
       "│\n",
       "├── :z : false\n",
       "│\n",
       "└── :q\n",
       "    │\n",
       "    ├── :a : true\n",
       "    │\n",
       "    └── :b : true\n"
      ]
     },
     "metadata": {},
     "output_type": "display_data"
    },
    {
     "data": {
      "text/plain": [
       "-2.0794415416798357"
      ]
     },
     "metadata": {},
     "output_type": "display_data"
    },
    {
     "data": {
      "text/plain": [
       "538"
      ]
     },
     "metadata": {},
     "output_type": "display_data"
    }
   ],
   "source": [
    "debugIO = open(\"write.txt\", \"w+\")\n",
    "logger = ConsoleLogger(debugIO, Debug)\n",
    "global_logger(logger)\n",
    "tr_old, w_old = generate(model, (10,))\n",
    "display(get_choices(tr_old))\n",
    "display(get_score(tr_old))\n",
    "io = IOBuffer()\n",
    "GenArrow.serialize(io, tr_old)\n",
    "close(debugIO)\n",
    "write_to_file(\"data.trace\", io)"
   ]
  },
  {
   "cell_type": "code",
   "execution_count": 32,
   "metadata": {},
   "outputs": [
    {
     "data": {
      "text/plain": [
       "LazyTrace(Ptr: -1, Length: -1\n",
       "[L]\n",
       " ┣━━ z ━ Gen.ChoiceOrCallRecord{Bool}(false, -0.6931471805599453, NaN, true)\n",
       " ┣━━ q ━ Gen.ChoiceOrCallRecord{LazyTrace}(LazyTrace(Ptr: -1, Length: -1\n",
       "[L]\n",
       " ┣━━ a ━ Gen.ChoiceOrCallRecord{Bool}(true, -0.6931471805599453, NaN, true)\n",
       " ┣━━ b ━ Gen.ChoiceOrCallRecord{Bool}(true, -0.6931471805599453, NaN, true)\n",
       "[I]\n",
       ", IOBuffer(data=UInt8[...], readable=true, writable=true, seekable=true, append=false, size=538, maxsize=Inf, ptr=226, mark=-1), false, -2.772588722239781, 0.0, (\"what the\",), true), -2.772588722239781, 0.0, false)\n",
       "[I]\n",
       ", IOBuffer(data=UInt8[...], readable=true, writable=true, seekable=true, append=false, size=538, maxsize=Inf, ptr=226, mark=-1), false, -5.545177444479562, 0.0, (10,), true)"
      ]
     },
     "metadata": {},
     "output_type": "display_data"
    }
   ],
   "source": [
    "debugIO = open(\"read.txt\", \"w+\")\n",
    "logger = ConsoleLogger(debugIO, Debug)\n",
    "global_logger(logger)\n",
    "\n",
    "io = read_from_file(\"data.trace\")\n",
    "recovered_tr = try\n",
    "    recovered_tr = GenArrow._deserialize(io, true)\n",
    "    close(debugIO)\n",
    "    recovered_tr\n",
    "catch\n",
    "    close(debugIO)\n",
    "    rethrow()\n",
    "end\n",
    "# recovered_tr.trie\n",
    "# display(get_score(recovered_tr))\n",
    "# display(get_choices(recovered_tr))\n",
    "# display(get_args(recovered_tr))"
   ]
  },
  {
   "attachments": {},
   "cell_type": "markdown",
   "metadata": {},
   "source": [
    "### Internal Nodes"
   ]
  },
  {
   "cell_type": "code",
   "execution_count": 33,
   "metadata": {},
   "outputs": [
    {
     "data": {
      "text/plain": [
       "DynamicDSLFunction{Any}(Dict{Symbol, Any}(), Dict{Symbol, Any}(), Type[], false, Union{Nothing, Some{Any}}[], var\"##model#317\", Bool[], false)"
      ]
     },
     "metadata": {},
     "output_type": "display_data"
    }
   ],
   "source": [
    "@gen function model()\n",
    "    {:x=>1} ~ bernoulli(0.5)\n",
    "    {:x=>2} ~ categorical([0.25, 0.25, 0.25, 0.25])\n",
    "    return 1\n",
    "end"
   ]
  },
  {
   "cell_type": "code",
   "execution_count": 34,
   "metadata": {},
   "outputs": [
    {
     "data": {
      "text/plain": [
       "│\n",
       "└── :x\n",
       "    │\n",
       "    ├── 2 : 2\n",
       "    │\n",
       "    └── 1 : false\n"
      ]
     },
     "metadata": {},
     "output_type": "display_data"
    },
    {
     "data": {
      "text/plain": [
       "-2.0794415416798357"
      ]
     },
     "metadata": {},
     "output_type": "display_data"
    },
    {
     "data": {
      "text/plain": [
       "332"
      ]
     },
     "metadata": {},
     "output_type": "display_data"
    }
   ],
   "source": [
    "debugIO = open(\"write.txt\", \"w+\")\n",
    "logger = ConsoleLogger(debugIO, Debug)\n",
    "global_logger(logger)\n",
    "tr_old, w_old = generate(model, ())\n",
    "display(get_choices(tr_old))\n",
    "display(get_score(tr_old))\n",
    "io = IOBuffer()\n",
    "GenArrow.serialize(io, tr_old)\n",
    "close(debugIO)\n",
    "write_to_file(\"data.trace\", io)"
   ]
  },
  {
   "cell_type": "code",
   "execution_count": 35,
   "metadata": {},
   "outputs": [
    {
     "data": {
      "text/plain": [
       "LazyTrace(Ptr: -1, Length: -1\n",
       "[L]\n",
       "[I]\n",
       " ┣━━ x ━┓\n",
       " ┃      Ptr: 197, Length: 135\n",
       " ┃      [L]\n",
       " ┃       ┣━━ 2 ━ Gen.ChoiceOrCallRecord{Int64}(2, -1.3862943611198906, NaN, true)\n",
       " ┃       ┣━━ 1 ━ Gen.ChoiceOrCallRecord{Bool}(false, -0.6931471805599453, NaN, true)\n",
       " ┃      [I]\n",
       ", IOBuffer(data=UInt8[...], readable=true, writable=true, seekable=true, append=false, size=332, maxsize=Inf, ptr=197, mark=-1), false, -4.1588830833596715, 0.0, (), 1)"
      ]
     },
     "metadata": {},
     "output_type": "display_data"
    }
   ],
   "source": [
    "debugIO = open(\"read.txt\", \"w+\")\n",
    "logger = ConsoleLogger(debugIO, Debug)\n",
    "global_logger(logger)\n",
    "seekstart(io)\n",
    "recovered_tr = try\n",
    "    recovered_tr = GenArrow._deserialize(model, io, true)\n",
    "    close(debugIO)\n",
    "    recovered_tr\n",
    "catch\n",
    "    close(debugIO)\n",
    "    rethrow()\n",
    "end"
   ]
  }
 ],
 "metadata": {
  "kernelspec": {
   "display_name": "Julia 1.8.1",
   "language": "julia",
   "name": "julia-1.8"
  },
  "language_info": {
   "file_extension": ".jl",
   "mimetype": "application/julia",
   "name": "julia",
   "version": "1.8.1"
  },
  "orig_nbformat": 4
 },
 "nbformat": 4,
 "nbformat_minor": 2
}
