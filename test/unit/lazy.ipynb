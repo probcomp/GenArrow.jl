{
 "cells": [
  {
   "cell_type": "code",
   "execution_count": 1,
   "metadata": {},
   "outputs": [],
   "source": [
    "using Gen\n",
    "using Serialization\n",
    "using Logging\n",
    "using BenchmarkTools"
   ]
  },
  {
   "cell_type": "code",
   "execution_count": 2,
   "metadata": {},
   "outputs": [],
   "source": [
    "using GenArrow"
   ]
  },
  {
   "cell_type": "code",
   "execution_count": 3,
   "metadata": {},
   "outputs": [
    {
     "data": {
      "text/plain": [
       "read_from_file (generic function with 1 method)"
      ]
     },
     "metadata": {},
     "output_type": "display_data"
    }
   ],
   "source": [
    "function write_to_file(fname, input)\n",
    "    seekstart(input)\n",
    "    data = read(input, String)\n",
    "    open(fname, \"w\") do io\n",
    "        write(io, data)\n",
    "    end\n",
    "end\n",
    "function read_from_file(fname)\n",
    "    io = IOBuffer()\n",
    "    open(fname, \"r\") do file\n",
    "        data = read(file, String)\n",
    "        write(io, data)\n",
    "    end\n",
    "    seekstart(io)\n",
    "    io\n",
    "end"
   ]
  },
  {
   "attachments": {},
   "cell_type": "markdown",
   "metadata": {},
   "source": [
    "### Leaf Nodes"
   ]
  },
  {
   "cell_type": "code",
   "execution_count": 4,
   "metadata": {},
   "outputs": [
    {
     "data": {
      "text/plain": [
       "DynamicDSLFunction{Any}(Dict{Symbol, Any}(), Dict{Symbol, Any}(), Type[Any], false, Union{Nothing, Some{Any}}[nothing], var\"##model#313\", Bool[0], false)"
      ]
     },
     "metadata": {},
     "output_type": "display_data"
    }
   ],
   "source": [
    "@gen function submodel(w)\n",
    "    a ~ bernoulli(0.5)\n",
    "    b ~ bernoulli(0.5)\n",
    "end\n",
    "\n",
    "@gen function model(n)\n",
    "    z ~ bernoulli(0.5)\n",
    "    # for k=1:n\n",
    "    #     @trace(bernoulli(0.5), k)\n",
    "    # end\n",
    "    q ~ submodel(\"what the\")\n",
    "end"
   ]
  },
  {
   "cell_type": "code",
   "execution_count": 5,
   "metadata": {},
   "outputs": [
    {
     "data": {
      "text/plain": [
       "│\n",
       "├── :z : false\n",
       "│\n",
       "└── :q\n",
       "    │\n",
       "    ├── :a : false\n",
       "    │\n",
       "    └── :b : false\n"
      ]
     },
     "metadata": {},
     "output_type": "display_data"
    },
    {
     "data": {
      "text/plain": [
       "-2.0794415416798357"
      ]
     },
     "metadata": {},
     "output_type": "display_data"
    },
    {
     "data": {
      "text/plain": [
       "538"
      ]
     },
     "metadata": {},
     "output_type": "display_data"
    }
   ],
   "source": [
    "debugIO = open(\"write.txt\", \"w+\")\n",
    "logger = ConsoleLogger(debugIO, Debug)\n",
    "global_logger(logger)\n",
    "tr_old, w_old = generate(model, (10,))\n",
    "display(get_choices(tr_old))\n",
    "display(get_score(tr_old))\n",
    "io = IOBuffer()\n",
    "GenArrow.serialize(io, tr_old)\n",
    "close(debugIO)\n",
    "write_to_file(\"data.trace\", io)"
   ]
  },
  {
   "cell_type": "code",
   "execution_count": 10,
   "metadata": {},
   "outputs": [
    {
     "data": {
      "text/plain": [
       "-5.545177444479562"
      ]
     },
     "metadata": {},
     "output_type": "display_data"
    },
    {
     "data": {
      "text/plain": [
       "│\n",
       "├── :z : false\n",
       "│\n",
       "└── :q\n",
       "    │\n",
       "    ├── :a : false\n",
       "    │\n",
       "    └── :b : false\n"
      ]
     },
     "metadata": {},
     "output_type": "display_data"
    },
    {
     "data": {
      "text/plain": [
       "(10,)"
      ]
     },
     "metadata": {},
     "output_type": "display_data"
    }
   ],
   "source": [
    "debugIO = open(\"read.txt\", \"w+\")\n",
    "logger = ConsoleLogger(debugIO, Debug)\n",
    "global_logger(logger)\n",
    "\n",
    "io = read_from_file(\"data.trace\")\n",
    "recovered_tr = try\n",
    "    recovered_tr = GenArrow._deserialize_lazy(io)\n",
    "    close(debugIO)\n",
    "    recovered_tr\n",
    "catch\n",
    "    close(debugIO)\n",
    "    rethrow()\n",
    "end\n",
    "display(get_score(recovered_tr))\n",
    "display(get_choices(recovered_tr))\n",
    "display(get_args(recovered_tr))"
   ]
  },
  {
   "attachments": {},
   "cell_type": "markdown",
   "metadata": {},
   "source": [
    "### Internal Nodes"
   ]
  },
  {
   "cell_type": "code",
   "execution_count": 11,
   "metadata": {},
   "outputs": [
    {
     "data": {
      "text/plain": [
       "DynamicDSLFunction{Any}(Dict{Symbol, Any}(), Dict{Symbol, Any}(), Type[], false, Union{Nothing, Some{Any}}[], var\"##model#314\", Bool[], false)"
      ]
     },
     "metadata": {},
     "output_type": "display_data"
    }
   ],
   "source": [
    "@gen function model()\n",
    "    {:x=>1} ~ bernoulli(0.5)\n",
    "    {:x=>2} ~ categorical([0.25, 0.25, 0.25, 0.25])\n",
    "    return 1\n",
    "end"
   ]
  },
  {
   "cell_type": "code",
   "execution_count": 12,
   "metadata": {},
   "outputs": [
    {
     "data": {
      "text/plain": [
       "│\n",
       "└── :x\n",
       "    │\n",
       "    ├── 2 : 3\n",
       "    │\n",
       "    └── 1 : true\n"
      ]
     },
     "metadata": {},
     "output_type": "display_data"
    },
    {
     "data": {
      "text/plain": [
       "-2.0794415416798357"
      ]
     },
     "metadata": {},
     "output_type": "display_data"
    },
    {
     "data": {
      "text/plain": [
       "332"
      ]
     },
     "metadata": {},
     "output_type": "display_data"
    }
   ],
   "source": [
    "debugIO = open(\"write.txt\", \"w+\")\n",
    "logger = ConsoleLogger(debugIO, Debug)\n",
    "global_logger(logger)\n",
    "tr_old, w_old = generate(model, ())\n",
    "display(get_choices(tr_old))\n",
    "display(get_score(tr_old))\n",
    "io = IOBuffer()\n",
    "GenArrow.serialize(io, tr_old)\n",
    "close(debugIO)\n",
    "write_to_file(\"data.trace\", io)"
   ]
  },
  {
   "cell_type": "code",
   "execution_count": 13,
   "metadata": {},
   "outputs": [
    {
     "data": {
      "text/plain": [
       "│\n",
       "└── :x\n",
       "    │\n",
       "    ├── 2 : 3\n",
       "    │\n",
       "    └── 1 : true\n"
      ]
     },
     "metadata": {},
     "output_type": "display_data"
    },
    {
     "data": {
      "text/plain": [
       "-4.1588830833596715"
      ]
     },
     "metadata": {},
     "output_type": "display_data"
    }
   ],
   "source": [
    "debugIO = open(\"read.txt\", \"w+\")\n",
    "logger = ConsoleLogger(debugIO, Debug)\n",
    "global_logger(logger)\n",
    "seekstart(io)\n",
    "recovered_tr = try\n",
    "    recovered_tr = GenArrow._deserialize_lazy(io)\n",
    "    close(debugIO)\n",
    "    recovered_tr\n",
    "catch\n",
    "    close(debugIO)\n",
    "    rethrow()\n",
    "end\n",
    "display(get_choices(recovered_tr))\n",
    "display(get_score(recovered_tr))"
   ]
  },
  {
   "attachments": {},
   "cell_type": "markdown",
   "metadata": {},
   "source": [
    "### Conversion"
   ]
  },
  {
   "cell_type": "code",
   "execution_count": 17,
   "metadata": {},
   "outputs": [
    {
     "data": {
      "text/plain": [
       "DynamicDSLFunction{Any}(Dict{Symbol, Any}(), Dict{Symbol, Any}(), Type[Any], false, Union{Nothing, Some{Any}}[nothing], var\"##mixed#318\", Bool[0], false)"
      ]
     },
     "metadata": {},
     "output_type": "display_data"
    }
   ],
   "source": [
    "@gen function mixed_submodel(w)\n",
    "    a ~ bernoulli(0.5)\n",
    "    b ~ bernoulli(0.5)\n",
    "end\n",
    "\n",
    "@gen function mixed(n)\n",
    "    z ~ bernoulli(0.5)\n",
    "    {:x=>1} ~ bernoulli(0.5)\n",
    "    {:x=>2} ~ categorical([0.25, 0.25, 0.25, 0.25])\n",
    "    q ~ mixed_submodel(\"hol up\")\n",
    "end"
   ]
  },
  {
   "cell_type": "code",
   "execution_count": 18,
   "metadata": {},
   "outputs": [
    {
     "data": {
      "text/plain": [
       "│\n",
       "├── :z : false\n",
       "│\n",
       "├── :q\n",
       "│   │\n",
       "│   ├── :a : true\n",
       "│   │\n",
       "│   └── :b : true\n",
       "│\n",
       "└── :x\n",
       "    │\n",
       "    ├── 2 : 4\n",
       "    │\n",
       "    └── 1 : true\n"
      ]
     },
     "metadata": {},
     "output_type": "display_data"
    },
    {
     "data": {
      "text/plain": [
       "-4.1588830833596715"
      ]
     },
     "metadata": {},
     "output_type": "display_data"
    },
    {
     "data": {
      "text/plain": [
       "696"
      ]
     },
     "metadata": {},
     "output_type": "display_data"
    }
   ],
   "source": [
    "debugIO = open(\"write.txt\", \"w+\")\n",
    "logger = ConsoleLogger(debugIO, Debug)\n",
    "global_logger(logger)\n",
    "tr_old, w_old = generate(mixed, (10,))\n",
    "display(get_choices(tr_old))\n",
    "display(get_score(tr_old))\n",
    "io = IOBuffer()\n",
    "GenArrow.serialize(io, tr_old)\n",
    "close(debugIO)\n",
    "write_to_file(\"data.trace\", io)"
   ]
  },
  {
   "cell_type": "code",
   "execution_count": 19,
   "metadata": {},
   "outputs": [
    {
     "data": {
      "text/plain": [
       "Gen.DynamicDSLTrace{DynamicDSLFunction{Any}}(DynamicDSLFunction{Any}(Dict{Symbol, Any}(), Dict{Symbol, Any}(), Type[Any], false, Union{Nothing, Some{Any}}[nothing], var\"##mixed#318\", Bool[0], false), Trie{Any, Gen.ChoiceOrCallRecord}(Dict{Any, Gen.ChoiceOrCallRecord}(:z => Gen.ChoiceOrCallRecord{Bool}(false, -0.6931471805599453, NaN, true), :q => Gen.ChoiceOrCallRecord{LazyTrace}(LazyTrace(Trie{Any, Gen.ChoiceOrCallRecord}(Dict{Any, Gen.ChoiceOrCallRecord}(:a => Gen.ChoiceOrCallRecord{Bool}(true, -0.6931471805599453, NaN, true), :b => Gen.ChoiceOrCallRecord{Bool}(true, -0.6931471805599453, NaN, true)), Dict{Any, Trie{Any, Gen.ChoiceOrCallRecord}}()), false, -2.772588722239781, 0.0, (\"hol up\",), true), -2.772588722239781, 0.0, false)), Dict{Any, Trie{Any, Gen.ChoiceOrCallRecord}}(:x => Trie{Any, Gen.ChoiceOrCallRecord}(Dict{Any, Gen.ChoiceOrCallRecord}(2 => Gen.ChoiceOrCallRecord{Int64}(4, -1.3862943611198906, NaN, true), 1 => Gen.ChoiceOrCallRecord{Bool}(true, -0.6931471805599453, NaN, true)), Dict{Any, Trie{Any, Gen.ChoiceOrCallRecord}}()))), false, -9.704060527839234, 0.0, (10,), true)"
      ]
     },
     "metadata": {},
     "output_type": "display_data"
    }
   ],
   "source": [
    "debugIO = open(\"read.txt\", \"w+\")\n",
    "logger = ConsoleLogger(debugIO, Debug)\n",
    "global_logger(logger)\n",
    "\n",
    "io = read_from_file(\"data.trace\")\n",
    "recovered_tr = try\n",
    "    recovered_tr = GenArrow._deserialize_lazy(io, gen_fn = mixed)\n",
    "    close(debugIO)\n",
    "    recovered_tr\n",
    "catch\n",
    "    close(debugIO)\n",
    "    rethrow()\n",
    "end\n",
    "# display(get_score(recovered_tr))\n",
    "# display(get_choices(recovered_tr))\n",
    "# display(get_args(recovered_tr))"
   ]
  },
  {
   "attachments": {},
   "cell_type": "markdown",
   "metadata": {},
   "source": [
    "### Update"
   ]
  },
  {
   "cell_type": "code",
   "execution_count": 42,
   "metadata": {},
   "outputs": [
    {
     "data": {
      "text/plain": [
       "DynamicDSLFunction{Any}(Dict{Symbol, Any}(), Dict{Symbol, Any}(), Type[Any], false, Union{Nothing, Some{Any}}[nothing], var\"##mixed#322\", Bool[0], false)"
      ]
     },
     "metadata": {},
     "output_type": "display_data"
    }
   ],
   "source": [
    "@gen function mixed_submodel(w)\n",
    "    a ~ bernoulli(0.5)\n",
    "    b ~ bernoulli(0.5)\n",
    "end\n",
    "\n",
    "@gen function mixed(n)\n",
    "    z ~ bernoulli(0.5)\n",
    "    # {:x=>1} ~ bernoulli(0.5)\n",
    "    # {:x=>2} ~ categorical([0.25, 0.25, 0.25, 0.25])\n",
    "    # q ~ mixed_submodel(\"hol up\")\n",
    "end"
   ]
  },
  {
   "cell_type": "code",
   "execution_count": 92,
   "metadata": {},
   "outputs": [
    {
     "data": {
      "text/plain": [
       "\"Original\""
      ]
     },
     "metadata": {},
     "output_type": "display_data"
    },
    {
     "data": {
      "text/plain": [
       "│\n",
       "└── :z : false\n"
      ]
     },
     "metadata": {},
     "output_type": "display_data"
    },
    {
     "data": {
      "text/plain": [
       "-0.6931471805599453"
      ]
     },
     "metadata": {},
     "output_type": "display_data"
    },
    {
     "data": {
      "text/plain": [
       "\"Recovered\""
      ]
     },
     "metadata": {},
     "output_type": "display_data"
    },
    {
     "data": {
      "text/plain": [
       "│\n",
       "└── :z : false\n"
      ]
     },
     "metadata": {},
     "output_type": "display_data"
    },
    {
     "data": {
      "text/plain": [
       "-1.3862943611198906"
      ]
     },
     "metadata": {},
     "output_type": "display_data"
    }
   ],
   "source": [
    "global_logger(NullLogger())\n",
    "tr_old, w_old = generate(mixed, (10,))\n",
    "display(\"Original\")\n",
    "display(get_choices(tr_old))\n",
    "display(get_score(tr_old))\n",
    "io = IOBuffer()\n",
    "GenArrow.serialize(io, tr_old)\n",
    "seekstart(io)\n",
    "recovered_tr = GenArrow._deserialize_lazy(io, gen_fn = mixed)\n",
    "display(\"Recovered\")\n",
    "display(get_choices(recovered_tr))\n",
    "display(get_score(recovered_tr))"
   ]
  },
  {
   "cell_type": "code",
   "execution_count": 104,
   "metadata": {},
   "outputs": [
    {
     "data": {
      "text/plain": [
       "(Gen.DynamicDSLTrace{DynamicDSLFunction{Any}}(DynamicDSLFunction{Any}(Dict{Symbol, Any}(), Dict{Symbol, Any}(), Type[Any], false, Union{Nothing, Some{Any}}[nothing], var\"##mixed#322\", Bool[0], false), Trie{Any, Gen.ChoiceOrCallRecord}(Dict{Any, Gen.ChoiceOrCallRecord}(:z => Gen.ChoiceOrCallRecord{Bool}(true, -0.6931471805599453, NaN, true)), Dict{Any, Trie{Any, Gen.ChoiceOrCallRecord}}()), false, -0.6931471805599453, 0.0, (10,), true), 0.0, UnknownChange(), DynamicChoiceMap(Dict{Any, Any}(:z => false), Dict{Any, Any}()))"
      ]
     },
     "metadata": {},
     "output_type": "display_data"
    }
   ],
   "source": [
    "chm = choicemap((:z, true))\n",
    "tr_update, _, _, _ = update(recovered_tr, (10,), (NoChange(),), chm)\n",
    "recovered_tr_update, _, _, _ = update(tr_old, (10,), (NoChange(),), chm)"
   ]
  },
  {
   "cell_type": "code",
   "execution_count": 105,
   "metadata": {},
   "outputs": [
    {
     "data": {
      "text/plain": [
       "│\n",
       "└── :z : true\n"
      ]
     },
     "metadata": {},
     "output_type": "display_data"
    },
    {
     "data": {
      "text/plain": [
       "│\n",
       "└── :z : true\n"
      ]
     },
     "metadata": {},
     "output_type": "display_data"
    }
   ],
   "source": [
    "display(get_choices(tr_update))\n",
    "display(get_choices(recovered_tr_update))"
   ]
  },
  {
   "cell_type": "code",
   "execution_count": 106,
   "metadata": {},
   "outputs": [
    {
     "data": {
      "text/plain": [
       "DynamicDSLFunction{Any}(Dict{Symbol, Any}(), Dict{Symbol, Any}(), Type[Any], false, Union{Nothing, Some{Any}}[nothing], var\"##throw#325\", Bool[0], false)"
      ]
     },
     "metadata": {},
     "output_type": "display_data"
    }
   ],
   "source": [
    "@gen function away(n)\n",
    "    for i=1:n\n",
    "        {:k=>i} ~ bernoulli(0.4)\n",
    "    end\n",
    "    return n\n",
    "end\n",
    "@gen function throw(n)\n",
    "    a ~ bernoulli(0.4)\n",
    "    q ~ away(n)\n",
    "end"
   ]
  },
  {
   "cell_type": "code",
   "execution_count": 135,
   "metadata": {},
   "outputs": [
    {
     "data": {
      "text/plain": [
       "Gen.DynamicDSLTrace{DynamicDSLFunction{Any}}(DynamicDSLFunction{Any}(Dict{Symbol, Any}(), Dict{Symbol, Any}(), Type[Any], false, Union{Nothing, Some{Any}}[nothing], var\"##throw#325\", Bool[0], false), Trie{Any, Gen.ChoiceOrCallRecord}(Dict{Any, Gen.ChoiceOrCallRecord}(:a => Gen.ChoiceOrCallRecord{Bool}(false, -0.5108256237659907, NaN, true), :q => Gen.ChoiceOrCallRecord{Gen.DynamicDSLTrace{DynamicDSLFunction{Any}}}(Gen.DynamicDSLTrace{DynamicDSLFunction{Any}}(DynamicDSLFunction{Any}(Dict{Symbol, Any}(), Dict{Symbol, Any}(), Type[Any], false, Union{Nothing, Some{Any}}[nothing], var\"##away#324\", Bool[0], false), Trie{Any, Gen.ChoiceOrCallRecord}(Dict{Any, Gen.ChoiceOrCallRecord}(), Dict{Any, Trie{Any, Gen.ChoiceOrCallRecord}}(:k => Trie{Any, Gen.ChoiceOrCallRecord}(Dict{Any, Gen.ChoiceOrCallRecord}(4 => Gen.ChoiceOrCallRecord{Bool}(false, -0.5108256237659907, NaN, true), 2 => Gen.ChoiceOrCallRecord{Bool}(true, -0.916290731874155, NaN, true), 3 => Gen.ChoiceOrCallRecord{Bool}(false, -0.5108256237659907, NaN, true), 1 => Gen.ChoiceOrCallRecord{Bool}(false, -0.5108256237659907, NaN, true)), Dict{Any, Trie{Any, Gen.ChoiceOrCallRecord}}()))), false, -2.448767603172127, 0.0, (4,), 4), -2.448767603172127, 0.0, false)), Dict{Any, Trie{Any, Gen.ChoiceOrCallRecord}}()), false, -2.959593226938118, 0.0, (4,), 4)"
      ]
     },
     "metadata": {},
     "output_type": "display_data"
    }
   ],
   "source": [
    "tr, _ = generate(throw, (4,))\n",
    "tr2 = deepcopy(tr)"
   ]
  },
  {
   "cell_type": "code",
   "execution_count": 152,
   "metadata": {},
   "outputs": [
    {
     "data": {
      "text/plain": [
       "(Gen.DynamicDSLTrace{DynamicDSLFunction{Any}}(DynamicDSLFunction{Any}(Dict{Symbol, Any}(), Dict{Symbol, Any}(), Type[Any], false, Union{Nothing, Some{Any}}[nothing], var\"##throw#325\", Bool[0], false), Trie{Any, Gen.ChoiceOrCallRecord}(Dict{Any, Gen.ChoiceOrCallRecord}(:a => Gen.ChoiceOrCallRecord{Bool}(false, -0.5108256237659907, NaN, true), :q => Gen.ChoiceOrCallRecord{Gen.DynamicDSLTrace{DynamicDSLFunction{Any}}}(Gen.DynamicDSLTrace{DynamicDSLFunction{Any}}(DynamicDSLFunction{Any}(Dict{Symbol, Any}(), Dict{Symbol, Any}(), Type[Any], false, Union{Nothing, Some{Any}}[nothing], var\"##away#324\", Bool[0], false), Trie{Any, Gen.ChoiceOrCallRecord}(Dict{Any, Gen.ChoiceOrCallRecord}(), Dict{Any, Trie{Any, Gen.ChoiceOrCallRecord}}(:k => Trie{Any, Gen.ChoiceOrCallRecord}(Dict{Any, Gen.ChoiceOrCallRecord}(4 => Gen.ChoiceOrCallRecord{Bool}(false, -0.5108256237659907, NaN, true), 2 => Gen.ChoiceOrCallRecord{Bool}(true, -0.916290731874155, NaN, true), 3 => Gen.ChoiceOrCallRecord{Bool}(false, -0.5108256237659907, NaN, true), 1 => Gen.ChoiceOrCallRecord{Bool}(false, -0.5108256237659907, NaN, true)), Dict{Any, Trie{Any, Gen.ChoiceOrCallRecord}}()))), false, -2.448767603172127, 0.0, (4,), 4), -2.448767603172127, 0.0, false)), Dict{Any, Trie{Any, Gen.ChoiceOrCallRecord}}()), false, -2.959593226938118, 0.0, (4,), 4), 0.0, UnknownChange(), DynamicChoiceMap(Dict{Any, Any}(:a => false), Dict{Any, Any}()))"
      ]
     },
     "metadata": {},
     "output_type": "display_data"
    }
   ],
   "source": [
    "chm = choicemap((:a, false))\n",
    "# display(chm)\n",
    "update(tr, (4,), (NoChange(),), chm)"
   ]
  },
  {
   "cell_type": "code",
   "execution_count": 112,
   "metadata": {},
   "outputs": [
    {
     "data": {
      "text/plain": [
       "false"
      ]
     },
     "metadata": {},
     "output_type": "display_data"
    }
   ],
   "source": [
    "tr==tr2"
   ]
  }
 ],
 "metadata": {
  "kernelspec": {
   "display_name": "Julia 1.8.1",
   "language": "julia",
   "name": "julia-1.8"
  },
  "language_info": {
   "file_extension": ".jl",
   "mimetype": "application/julia",
   "name": "julia",
   "version": "1.8.1"
  },
  "orig_nbformat": 4
 },
 "nbformat": 4,
 "nbformat_minor": 2
}
