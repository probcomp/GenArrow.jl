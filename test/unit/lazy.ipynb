{
 "cells": [
  {
   "cell_type": "code",
   "execution_count": 1,
   "metadata": {},
   "outputs": [],
   "source": [
    "using Gen\n",
    "using Serialization\n",
    "using Logging\n",
    "using BenchmarkTools"
   ]
  },
  {
   "cell_type": "code",
   "execution_count": 7,
   "metadata": {},
   "outputs": [
    {
     "name": "stderr",
     "output_type": "stream",
     "text": [
      "\u001b[34m\u001b[1m┌ \u001b[22m\u001b[39m\u001b[34m\u001b[1mDebug: \u001b[22m\u001b[39mRejecting stale cache file /Users/ian/.julia/compiled/v1.8/GenArrow/aNlSN_Vi0Tz.ji (mtime 1.6788300239800227e9) because file /Users/ian/Documents/probcomp/GenArrow.jl/src/GenArrow.jl (mtime 1.678830701971165e9) has changed\n",
      "\u001b[34m\u001b[1m└ \u001b[22m\u001b[39m\u001b[90m@ Base loading.jl:2150\u001b[39m\n",
      "\u001b[34m\u001b[1m┌ \u001b[22m\u001b[39m\u001b[34m\u001b[1mDebug: \u001b[22m\u001b[39mRejecting cache file /Users/ian/.julia/compiled/v1.8/GenArrow/aNlSN_aNLwd.ji because module Parsers [69de0a69-1ddd-5017-9359-2bf0b02dc9f0] is already loaded and incompatible.\n",
      "\u001b[34m\u001b[1m└ \u001b[22m\u001b[39m\u001b[90m@ Base loading.jl:2100\u001b[39m\n",
      "\u001b[34m\u001b[1m┌ \u001b[22m\u001b[39m\u001b[34m\u001b[1mDebug: \u001b[22m\u001b[39mRejecting cache file /Users/ian/.julia/compiled/v1.8/GenArrow/aNlSN_8wlmW.ji because module Parsers [69de0a69-1ddd-5017-9359-2bf0b02dc9f0] is already loaded and incompatible.\n",
      "\u001b[34m\u001b[1m└ \u001b[22m\u001b[39m\u001b[90m@ Base loading.jl:2100\u001b[39m\n",
      "\u001b[34m\u001b[1m┌ \u001b[22m\u001b[39m\u001b[34m\u001b[1mDebug: \u001b[22m\u001b[39mRejecting cache file /Users/ian/.julia/compiled/v1.8/GenArrow/aNlSN_xGnfe.ji because module IrrationalConstants [92d709cd-6900-40b7-9082-c6be49f344b6] is already loaded and incompatible.\n",
      "\u001b[34m\u001b[1m└ \u001b[22m\u001b[39m\u001b[90m@ Base loading.jl:2100\u001b[39m\n",
      "\u001b[34m\u001b[1m┌ \u001b[22m\u001b[39m\u001b[34m\u001b[1mDebug: \u001b[22m\u001b[39mPrecompiling GenArrow [38ed6c62-afb3-4a05-8af9-4104512be020]\n",
      "\u001b[34m\u001b[1m└ \u001b[22m\u001b[39m\u001b[90m@ Base loading.jl:1662\u001b[39m\n"
     ]
    },
    {
     "name": "stderr",
     "output_type": "stream",
     "text": [
      "\u001b[34m\u001b[1m┌ \u001b[22m\u001b[39m\u001b[34m\u001b[1mDebug: \u001b[22m\u001b[39mLoading cache file /Users/ian/.julia/compiled/v1.8/GenArrow/aNlSN_Vi0Tz.ji for GenArrow [38ed6c62-afb3-4a05-8af9-4104512be020]\n",
      "\u001b[34m\u001b[1m└ \u001b[22m\u001b[39m\u001b[90m@ Base loading.jl:806\u001b[39m\n"
     ]
    }
   ],
   "source": [
    "using GenArrow"
   ]
  },
  {
   "cell_type": "code",
   "execution_count": 8,
   "metadata": {},
   "outputs": [
    {
     "data": {
      "text/plain": [
       "read_from_file (generic function with 1 method)"
      ]
     },
     "metadata": {},
     "output_type": "display_data"
    }
   ],
   "source": [
    "function write_to_file(fname, input)\n",
    "    seekstart(input)\n",
    "    data = read(input, String)\n",
    "    open(fname, \"w\") do io\n",
    "        write(io, data)\n",
    "    end\n",
    "end\n",
    "function read_from_file(fname)\n",
    "    io = IOBuffer()\n",
    "    open(fname, \"r\") do file\n",
    "        data = read(file, String)\n",
    "        write(io, data)\n",
    "    end\n",
    "    seekstart(io)\n",
    "    io\n",
    "end"
   ]
  },
  {
   "attachments": {},
   "cell_type": "markdown",
   "metadata": {},
   "source": [
    "### Leaf Nodes"
   ]
  },
  {
   "cell_type": "code",
   "execution_count": 9,
   "metadata": {},
   "outputs": [
    {
     "data": {
      "text/plain": [
       "DynamicDSLFunction{Any}(Dict{Symbol, Any}(), Dict{Symbol, Any}(), Type[Any], false, Union{Nothing, Some{Any}}[nothing], var\"##model#315\", Bool[0], false)"
      ]
     },
     "metadata": {},
     "output_type": "display_data"
    }
   ],
   "source": [
    "@gen function submodel(w)\n",
    "    a ~ bernoulli(0.5)\n",
    "    b ~ bernoulli(0.5)\n",
    "end\n",
    "\n",
    "@gen function model(n)\n",
    "    z ~ bernoulli(0.5)\n",
    "    # for k=1:n\n",
    "    #     @trace(bernoulli(0.5), k)\n",
    "    # end\n",
    "    q ~ submodel(\"what the\")\n",
    "end"
   ]
  },
  {
   "cell_type": "code",
   "execution_count": 10,
   "metadata": {},
   "outputs": [
    {
     "data": {
      "text/plain": [
       "│\n",
       "├── :z : true\n",
       "│\n",
       "└── :q\n",
       "    │\n",
       "    ├── :a : true\n",
       "    │\n",
       "    └── :b : false\n"
      ]
     },
     "metadata": {},
     "output_type": "display_data"
    },
    {
     "data": {
      "text/plain": [
       "-2.0794415416798357"
      ]
     },
     "metadata": {},
     "output_type": "display_data"
    },
    {
     "data": {
      "text/plain": [
       "538"
      ]
     },
     "metadata": {},
     "output_type": "display_data"
    }
   ],
   "source": [
    "debugIO = open(\"write.txt\", \"w+\")\n",
    "logger = ConsoleLogger(debugIO, Debug)\n",
    "global_logger(logger)\n",
    "tr_old, w_old = generate(model, (10,))\n",
    "display(get_choices(tr_old))\n",
    "display(get_score(tr_old))\n",
    "io = IOBuffer()\n",
    "GenArrow.serialize(io, tr_old)\n",
    "close(debugIO)\n",
    "write_to_file(\"data.trace\", io)"
   ]
  },
  {
   "cell_type": "code",
   "execution_count": 15,
   "metadata": {},
   "outputs": [
    {
     "data": {
      "text/plain": [
       "LazyTrace(Trie{Any, Gen.ChoiceOrCallRecord}(Dict{Any, Gen.ChoiceOrCallRecord}(:z => Gen.ChoiceOrCallRecord{Bool}(true, -0.6931471805599453, NaN, true), :q => Gen.ChoiceOrCallRecord{LazyTrace}(LazyTrace(Trie{Any, Gen.ChoiceOrCallRecord}(Dict{Any, Gen.ChoiceOrCallRecord}(:a => Gen.ChoiceOrCallRecord{Bool}(true, -0.6931471805599453, NaN, true), :b => Gen.ChoiceOrCallRecord{Bool}(false, -0.6931471805599453, NaN, true)), Dict{Any, Trie{Any, Gen.ChoiceOrCallRecord}}()), false, -2.772588722239781, 0.0, (\"what the\",), false), -2.772588722239781, 0.0, false)), Dict{Any, Trie{Any, Gen.ChoiceOrCallRecord}}()), false, -5.545177444479562, 0.0, (10,), false)"
      ]
     },
     "metadata": {},
     "output_type": "display_data"
    }
   ],
   "source": [
    "debugIO = open(\"read.txt\", \"w+\")\n",
    "logger = ConsoleLogger(debugIO, Debug)\n",
    "global_logger(logger)\n",
    "\n",
    "io = read_from_file(\"data.trace\")\n",
    "recovered_tr = try\n",
    "    recovered_tr = GenArrow._deserialize_lazy(io)\n",
    "    close(debugIO)\n",
    "    recovered_tr\n",
    "catch\n",
    "    close(debugIO)\n",
    "    rethrow()\n",
    "end\n",
    "# display(get_score(recovered_tr))\n",
    "# display(get_choices(recovered_tr))\n",
    "# display(get_args(recovered_tr))"
   ]
  },
  {
   "attachments": {},
   "cell_type": "markdown",
   "metadata": {},
   "source": [
    "### Internal Nodes"
   ]
  },
  {
   "cell_type": "code",
   "execution_count": 16,
   "metadata": {},
   "outputs": [
    {
     "data": {
      "text/plain": [
       "DynamicDSLFunction{Any}(Dict{Symbol, Any}(), Dict{Symbol, Any}(), Type[], false, Union{Nothing, Some{Any}}[], var\"##model#317\", Bool[], false)"
      ]
     },
     "metadata": {},
     "output_type": "display_data"
    }
   ],
   "source": [
    "@gen function model()\n",
    "    {:x=>1} ~ bernoulli(0.5)\n",
    "    {:x=>2} ~ categorical([0.25, 0.25, 0.25, 0.25])\n",
    "    return 1\n",
    "end"
   ]
  },
  {
   "cell_type": "code",
   "execution_count": 17,
   "metadata": {},
   "outputs": [
    {
     "data": {
      "text/plain": [
       "│\n",
       "└── :x\n",
       "    │\n",
       "    ├── 2 : 1\n",
       "    │\n",
       "    └── 1 : false\n"
      ]
     },
     "metadata": {},
     "output_type": "display_data"
    },
    {
     "data": {
      "text/plain": [
       "-2.0794415416798357"
      ]
     },
     "metadata": {},
     "output_type": "display_data"
    },
    {
     "data": {
      "text/plain": [
       "332"
      ]
     },
     "metadata": {},
     "output_type": "display_data"
    }
   ],
   "source": [
    "debugIO = open(\"write.txt\", \"w+\")\n",
    "logger = ConsoleLogger(debugIO, Debug)\n",
    "global_logger(logger)\n",
    "tr_old, w_old = generate(model, ())\n",
    "display(get_choices(tr_old))\n",
    "display(get_score(tr_old))\n",
    "io = IOBuffer()\n",
    "GenArrow.serialize(io, tr_old)\n",
    "close(debugIO)\n",
    "write_to_file(\"data.trace\", io)"
   ]
  },
  {
   "cell_type": "code",
   "execution_count": 18,
   "metadata": {},
   "outputs": [
    {
     "data": {
      "text/plain": [
       "│\n",
       "└── :x\n",
       "    │\n",
       "    ├── 2 : 1\n",
       "    │\n",
       "    └── 1 : false\n"
      ]
     },
     "metadata": {},
     "output_type": "display_data"
    },
    {
     "data": {
      "text/plain": [
       "-4.1588830833596715"
      ]
     },
     "metadata": {},
     "output_type": "display_data"
    }
   ],
   "source": [
    "debugIO = open(\"read.txt\", \"w+\")\n",
    "logger = ConsoleLogger(debugIO, Debug)\n",
    "global_logger(logger)\n",
    "seekstart(io)\n",
    "recovered_tr = try\n",
    "    recovered_tr = GenArrow._deserialize_lazy(io)\n",
    "    close(debugIO)\n",
    "    recovered_tr\n",
    "catch\n",
    "    close(debugIO)\n",
    "    rethrow()\n",
    "end\n",
    "display(get_choices(recovered_tr))\n",
    "display(get_score(recovered_tr))"
   ]
  },
  {
   "attachments": {},
   "cell_type": "markdown",
   "metadata": {},
   "source": [
    "### Conversion"
   ]
  },
  {
   "cell_type": "code",
   "execution_count": 19,
   "metadata": {},
   "outputs": [
    {
     "data": {
      "text/plain": [
       "DynamicDSLFunction{Any}(Dict{Symbol, Any}(), Dict{Symbol, Any}(), Type[Any], false, Union{Nothing, Some{Any}}[nothing], var\"##mixed#319\", Bool[0], false)"
      ]
     },
     "metadata": {},
     "output_type": "display_data"
    }
   ],
   "source": [
    "@gen function mixed_submodel(w)\n",
    "    a ~ bernoulli(0.5)\n",
    "    b ~ bernoulli(0.5)\n",
    "end\n",
    "\n",
    "@gen function mixed(n)\n",
    "    z ~ bernoulli(0.5)\n",
    "    {:x=>1} ~ bernoulli(0.5)\n",
    "    {:x=>2} ~ categorical([0.25, 0.25, 0.25, 0.25])\n",
    "    q ~ mixed_submodel(\"hol up\")\n",
    "end"
   ]
  },
  {
   "cell_type": "code",
   "execution_count": 20,
   "metadata": {},
   "outputs": [
    {
     "ename": "MethodError",
     "evalue": "MethodError: no method matching var\"##model#317\"(::Gen.GFGenerateState, ::Int64)\nClosest candidates are:\n  var\"##model#317\"(::Any) at ~/Documents/probcomp/GenArrow.jl/test/unit/lazy.ipynb:1",
     "output_type": "error",
     "traceback": [
      "MethodError: no method matching var\"##model#317\"(::Gen.GFGenerateState, ::Int64)\n",
      "Closest candidates are:\n",
      "  var\"##model#317\"(::Any) at ~/Documents/probcomp/GenArrow.jl/test/unit/lazy.ipynb:1\n",
      "\n",
      "Stacktrace:\n",
      " [1] exec(gen_fn::DynamicDSLFunction{Any}, state::Gen.GFGenerateState, args::Tuple{Int64})\n",
      "   @ Gen ~/.julia/packages/Gen/Dne3u/src/dynamic/dynamic.jl:58\n",
      " [2] generate\n",
      "   @ ~/.julia/packages/Gen/Dne3u/src/dynamic/generate.jl:84 [inlined]\n",
      " [3] generate(gen_fn::DynamicDSLFunction{Any}, args::Tuple{Int64})\n",
      "   @ Gen ~/.julia/packages/Gen/Dne3u/src/gen_fn_interface.jl:190\n",
      " [4] top-level scope\n",
      "   @ ~/Documents/probcomp/GenArrow.jl/test/unit/lazy.ipynb:4"
     ]
    }
   ],
   "source": [
    "debugIO = open(\"write.txt\", \"w+\")\n",
    "logger = ConsoleLogger(debugIO, Debug)\n",
    "global_logger(logger)\n",
    "tr_old, w_old = generate(mixed, (10,))\n",
    "display(get_choices(tr_old))\n",
    "display(get_score(tr_old))\n",
    "io = IOBuffer()\n",
    "GenArrow.serialize(io, tr_old)\n",
    "close(debugIO)\n",
    "write_to_file(\"data.trace\", io)"
   ]
  },
  {
   "cell_type": "code",
   "execution_count": 21,
   "metadata": {},
   "outputs": [
    {
     "data": {
      "text/plain": [
       "LazyTrace(Trie{Any, Gen.ChoiceOrCallRecord}(Dict{Any, Gen.ChoiceOrCallRecord}(), Dict{Any, Trie{Any, Gen.ChoiceOrCallRecord}}(:x => Trie{Any, Gen.ChoiceOrCallRecord}(Dict{Any, Gen.ChoiceOrCallRecord}(2 => Gen.ChoiceOrCallRecord{Int64}(1, -1.3862943611198906, NaN, true), 1 => Gen.ChoiceOrCallRecord{Bool}(false, -0.6931471805599453, NaN, true)), Dict{Any, Trie{Any, Gen.ChoiceOrCallRecord}}()))), false, -4.1588830833596715, 0.0, (), 1)"
      ]
     },
     "metadata": {},
     "output_type": "display_data"
    }
   ],
   "source": [
    "debugIO = open(\"read.txt\", \"w+\")\n",
    "logger = ConsoleLogger(debugIO, Debug)\n",
    "global_logger(logger)\n",
    "\n",
    "io = read_from_file(\"data.trace\")\n",
    "recovered_tr = try\n",
    "    recovered_tr = GenArrow._deserialize_lazy(io, gen_fn = mixed)\n",
    "    close(debugIO)\n",
    "    recovered_tr\n",
    "catch\n",
    "    close(debugIO)\n",
    "    rethrow()\n",
    "end\n",
    "# display(get_score(recovered_tr))\n",
    "# display(get_choices(recovered_tr))\n",
    "# display(get_args(recovered_tr))"
   ]
  }
 ],
 "metadata": {
  "kernelspec": {
   "display_name": "Julia 1.8.1",
   "language": "julia",
   "name": "julia-1.8"
  },
  "language_info": {
   "file_extension": ".jl",
   "mimetype": "application/julia",
   "name": "julia",
   "version": "1.8.1"
  },
  "orig_nbformat": 4
 },
 "nbformat": 4,
 "nbformat_minor": 2
}
