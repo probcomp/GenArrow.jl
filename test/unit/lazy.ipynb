{
 "cells": [
  {
   "cell_type": "code",
   "execution_count": 1,
   "metadata": {},
   "outputs": [
    {
     "name": "stdout",
     "output_type": "stream",
     "text": [
      "getchoices: "
     ]
    },
    {
     "name": "stdout",
     "output_type": "stream",
     "text": [
      "# 8 methods for generic function \"get_choices\":\n",
      "[1] get_choices(trace::Gen.VectorTrace) in Gen at /Users/ian/.julia/packages/Gen/Dne3u/src/modeling_library/vector.jl:47\n",
      "[2] get_choices(trace::Gen.RecurseTrace) in Gen at /Users/ian/.julia/packages/Gen/Dne3u/src/modeling_library/recurse/recurse.jl:58\n",
      "[3] get_choices(tr::Gen.SwitchTrace) in Gen at /Users/ian/.julia/packages/Gen/Dne3u/src/modeling_library/switch/trace.jl:18\n",
      "[4] get_choices(trace::Gen.CustomDetermGFTrace) in Gen at /Users/ian/.julia/packages/Gen/Dne3u/src/modeling_library/custom_determ.jl:21\n",
      "[5] get_choices(trace::Gen.DynamicDSLTrace) in Gen at /Users/ian/.julia/packages/Gen/Dne3u/src/dynamic/trace.jl:109\n",
      "[6] get_choices(trace::GenArrow.LazyTrace) in GenArrow at /Users/ian/Documents/probcomp/GenArrow.jl/src/lazy/trace.jl:72\n",
      "[7] get_choices(trace::Gen.ChoiceAtTrace) in Gen at /Users/ian/.julia/packages/Gen/Dne3u/src/modeling_library/choice_at/choice_at.jl:21\n",
      "[8] get_choices(trace::Gen.CallAtTrace) in Gen at /Users/ian/.julia/packages/Gen/Dne3u/src/modeling_library/call_at/call_at.jl:51\n"
     ]
    }
   ],
   "source": [
    "using Gen\n",
    "using GenArrow"
   ]
  },
  {
   "cell_type": "code",
   "execution_count": 4,
   "metadata": {},
   "outputs": [
    {
     "data": {
      "text/plain": [
       "DynamicDSLFunction{Any}"
      ]
     },
     "metadata": {},
     "output_type": "display_data"
    }
   ],
   "source": [
    "@gen function model()\n",
    "    x ~ bernoulli(0.5)\n",
    "end\n",
    "model_type = typeof(model)"
   ]
  },
  {
   "cell_type": "code",
   "execution_count": 5,
   "metadata": {},
   "outputs": [
    {
     "data": {
      "text/plain": [
       "LazyTrace{DynamicDSLFunction{Any}}(Ptr: -1, Length: -1\n",
       "[L]\n",
       "[I]\n",
       ", true, 0.0, 0.0, (3, 0), #undef)"
      ]
     },
     "metadata": {},
     "output_type": "display_data"
    }
   ],
   "source": [
    "tr = LazyTrace{model_type}((3,0))"
   ]
  },
  {
   "cell_type": "code",
   "execution_count": 11,
   "metadata": {},
   "outputs": [
    {
     "ename": "ErrorException",
     "evalue": "Value or subtrace already present at address x.\n            The same address cannot be reused for multiple random choices.",
     "output_type": "error",
     "traceback": [
      "Value or subtrace already present at address x.\n",
      "            The same address cannot be reused for multiple random choices.\n",
      "\n",
      "Stacktrace:\n",
      " [1] error(s::String)\n",
      "   @ Base ./error.jl:35\n",
      " [2] add_choice!(trace::LazyTrace{DynamicDSLFunction{Any}}, addr::Symbol, retval::Int64, score::Float64)\n",
      "   @ GenArrow ~/Documents/probcomp/GenArrow.jl/src/lazy/trace.jl:40\n",
      " [3] top-level scope\n",
      "   @ ~/Documents/probcomp/GenArrow.jl/test/unit/lazy.ipynb:1"
     ]
    }
   ],
   "source": [
    "Gen.add_choice!(tr, :x, 1, 0.2)\n",
    "# println(typeof(tr))"
   ]
  },
  {
   "cell_type": "code",
   "execution_count": 21,
   "metadata": {},
   "outputs": [
    {
     "data": {
      "text/html": [
       "# 10 methods for generic function <b>get_values_shallow</b>:<ul><li> get_values_shallow(choices::<b>StaticChoiceMap</b>) in Gen at <a href=\"file:///Users/ian/.julia/packages/Gen/Dne3u/src/choice_map.jl\" target=\"_blank\">/Users/ian/.julia/packages/Gen/Dne3u/src/choice_map.jl:399</a></li> <li> get_values_shallow(::<b>InternalVectorChoiceMap</b>) in Gen at <a href=\"file:///Users/ian/.julia/packages/Gen/Dne3u/src/choice_map.jl\" target=\"_blank\">/Users/ian/.julia/packages/Gen/Dne3u/src/choice_map.jl:878</a></li> <li> get_values_shallow(::<b>Gen.VectorTraceChoiceMap</b>) in Gen at <a href=\"file:///Users/ian/.julia/packages/Gen/Dne3u/src/modeling_library/vector.jl\" target=\"_blank\">/Users/ian/.julia/packages/Gen/Dne3u/src/modeling_library/vector.jl:97</a></li> <li> get_values_shallow(choices::<b>Gen.ChoiceAtChoiceMap</b>) in Gen at <a href=\"file:///Users/ian/.julia/packages/Gen/Dne3u/src/modeling_library/choice_at/choice_at.jl\" target=\"_blank\">/Users/ian/.julia/packages/Gen/Dne3u/src/modeling_library/choice_at/choice_at.jl:32</a></li> <li> get_values_shallow(::<b>Gen.CallAtChoiceMap</b>) in Gen at <a href=\"file:///Users/ian/.julia/packages/Gen/Dne3u/src/modeling_library/call_at/call_at.jl\" target=\"_blank\">/Users/ian/.julia/packages/Gen/Dne3u/src/modeling_library/call_at/call_at.jl:20</a></li> <li> get_values_shallow(choices::<b>DynamicChoiceMap</b>) in Gen at <a href=\"file:///Users/ian/.julia/packages/Gen/Dne3u/src/choice_map.jl\" target=\"_blank\">/Users/ian/.julia/packages/Gen/Dne3u/src/choice_map.jl:699</a></li> <li> get_values_shallow(::<b>EmptyChoiceMap</b>) in Gen at <a href=\"file:///Users/ian/.julia/packages/Gen/Dne3u/src/choice_map.jl\" target=\"_blank\">/Users/ian/.julia/packages/Gen/Dne3u/src/choice_map.jl:914</a></li> <li> get_values_shallow(choices::<b>Gen.RecurseTraceChoiceMap</b>) in Gen at <a href=\"file:///Users/ian/.julia/packages/Gen/Dne3u/src/modeling_library/recurse/recurse.jl\" target=\"_blank\">/Users/ian/.julia/packages/Gen/Dne3u/src/modeling_library/recurse/recurse.jl:99</a></li> <li> get_values_shallow(choices::<b>Gen.DynamicDSLChoiceMap</b>) in Gen at <a href=\"file:///Users/ian/.julia/packages/Gen/Dne3u/src/dynamic/trace.jl\" target=\"_blank\">/Users/ian/.julia/packages/Gen/Dne3u/src/dynamic/trace.jl:159</a></li> <li> get_values_shallow(choices::<b>LazyChoiceMap</b>) in GenArrow at <a href=\"https://github.com/probcomp/GenArrow.jl/tree/b060e693f4f30372b7e84e630da0fdb9ba40950a//src/lazy/trace.jl#L123\" target=\"_blank\">/Users/ian/Documents/probcomp/GenArrow.jl/src/lazy/trace.jl:123</a></li> </ul>"
      ],
      "text/plain": [
       "# 10 methods for generic function \"get_values_shallow\":\n",
       "[1] get_values_shallow(choices::StaticChoiceMap) in Gen at /Users/ian/.julia/packages/Gen/Dne3u/src/choice_map.jl:399\n",
       "[2] get_values_shallow(::InternalVectorChoiceMap) in Gen at /Users/ian/.julia/packages/Gen/Dne3u/src/choice_map.jl:878\n",
       "[3] get_values_shallow(::Gen.VectorTraceChoiceMap) in Gen at /Users/ian/.julia/packages/Gen/Dne3u/src/modeling_library/vector.jl:97\n",
       "[4] get_values_shallow(choices::Gen.ChoiceAtChoiceMap) in Gen at /Users/ian/.julia/packages/Gen/Dne3u/src/modeling_library/choice_at/choice_at.jl:32\n",
       "[5] get_values_shallow(::Gen.CallAtChoiceMap) in Gen at /Users/ian/.julia/packages/Gen/Dne3u/src/modeling_library/call_at/call_at.jl:20\n",
       "[6] get_values_shallow(choices::DynamicChoiceMap) in Gen at /Users/ian/.julia/packages/Gen/Dne3u/src/choice_map.jl:699\n",
       "[7] get_values_shallow(::EmptyChoiceMap) in Gen at /Users/ian/.julia/packages/Gen/Dne3u/src/choice_map.jl:914\n",
       "[8] get_values_shallow(choices::Gen.RecurseTraceChoiceMap) in Gen at /Users/ian/.julia/packages/Gen/Dne3u/src/modeling_library/recurse/recurse.jl:99\n",
       "[9] get_values_shallow(choices::Gen.DynamicDSLChoiceMap) in Gen at /Users/ian/.julia/packages/Gen/Dne3u/src/dynamic/trace.jl:159\n",
       "[10] get_values_shallow(choices::LazyChoiceMap) in GenArrow at /Users/ian/Documents/probcomp/GenArrow.jl/src/lazy/trace.jl:123"
      ]
     },
     "metadata": {},
     "output_type": "display_data"
    }
   ],
   "source": [
    "get_choices(tr)\n",
    "# methods(get_values_shallow)"
   ]
  }
 ],
 "metadata": {
  "kernelspec": {
   "display_name": "Julia 1.8.1",
   "language": "julia",
   "name": "julia-1.8"
  },
  "language_info": {
   "file_extension": ".jl",
   "mimetype": "application/julia",
   "name": "julia",
   "version": "1.8.1"
  },
  "orig_nbformat": 4
 },
 "nbformat": 4,
 "nbformat_minor": 2
}
