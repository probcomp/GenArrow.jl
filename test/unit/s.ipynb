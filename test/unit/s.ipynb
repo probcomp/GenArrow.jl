{
 "cells": [
  {
   "cell_type": "code",
   "execution_count": 1,
   "metadata": {},
   "outputs": [],
   "source": [
    "using Gen\n",
    "using Serialization\n",
    "using Logging\n",
    "using BenchmarkTools"
   ]
  },
  {
   "cell_type": "code",
   "execution_count": 2,
   "metadata": {},
   "outputs": [],
   "source": [
    "using GenArrow"
   ]
  },
  {
   "cell_type": "code",
   "execution_count": 3,
   "metadata": {},
   "outputs": [
    {
     "data": {
      "text/plain": [
       "read_from_file (generic function with 1 method)"
      ]
     },
     "metadata": {},
     "output_type": "display_data"
    }
   ],
   "source": [
    "function write_to_file(input)\n",
    "    seekstart(input)\n",
    "    data = read(input, String)\n",
    "    open(\"./data.trace\", \"w\") do io\n",
    "        write(io, data)\n",
    "    end\n",
    "end\n",
    "function read_from_file()\n",
    "    io = open(\"./data.trace\")\n",
    "end"
   ]
  },
  {
   "cell_type": "code",
   "execution_count": 4,
   "metadata": {},
   "outputs": [
    {
     "data": {
      "text/plain": [
       "Unfold{Any, Gen.DynamicDSLTrace}(DynamicDSLFunction{Any}(Dict{Symbol, Any}(), Dict{Symbol, Any}(), Type[Int64, Bool, Float64, Float64], false, Union{Nothing, Some{Any}}[nothing, nothing, nothing, nothing], var\"##zoobar#315\", Bool[0, 0, 0, 0], false))"
      ]
     },
     "metadata": {},
     "output_type": "display_data"
    }
   ],
   "source": [
    "@gen function submodel(w)\n",
    "    a ~ bernoulli(0.5)\n",
    "    b ~ bernoulli(0.5)\n",
    "end\n",
    "@gen function model(n)\n",
    "    x ~ mvnormal([0, 0], [1 0; 0 1])\n",
    "    # q ~ submodel()\n",
    "    if (y ~ bernoulli(0.5))\n",
    "        w ~ categorical([0.25, 0.25, 0.25, 0.25])\n",
    "    else\n",
    "        z ~ bernoulli(0.5)\n",
    "    end\n",
    "    for i=1:n\n",
    "        {(:k,i)} ~ bernoulli(0.5)\n",
    "    end\n",
    "    {:a => 1} ~ bernoulli(0.5)\n",
    "    return 1\n",
    "end\n",
    "@gen function foo(x1::Float64, x2::Float64)\n",
    "    y = @trace(normal(x1 + x2, 1.0), :z)\n",
    "    return y\n",
    "end\n",
    "@gen function zoobar(t::Int, y_prev::Bool, z1::Float64, z2::Float64)\n",
    "    y = @trace(bernoulli(y_prev ? z1 : z2), :y)\n",
    "    return y\n",
    "end\n",
    "\n",
    "bar = Map(foo)\n",
    "zoo = Unfold(zoobar)\n"
   ]
  },
  {
   "cell_type": "code",
   "execution_count": 5,
   "metadata": {},
   "outputs": [
    {
     "data": {
      "text/plain": [
       "DynamicDSLFunction{Any}(Dict{Symbol, Any}(), Dict{Symbol, Any}(), Type[Any], false, Union{Nothing, Some{Any}}[nothing], var\"##model#316\", Bool[0], false)"
      ]
     },
     "metadata": {},
     "output_type": "display_data"
    }
   ],
   "source": [
    "@gen function model(n)\n",
    "    z ~ bernoulli(0.5)\n",
    "    q ~ submodel(\"what the\")\n",
    "end"
   ]
  },
  {
   "cell_type": "code",
   "execution_count": 6,
   "metadata": {},
   "outputs": [
    {
     "data": {
      "text/plain": [
       "│\n",
       "├── :z : false\n",
       "│\n",
       "└── :q\n",
       "    │\n",
       "    ├── :a : false\n",
       "    │\n",
       "    └── :b : false\n"
      ]
     },
     "metadata": {},
     "output_type": "display_data"
    },
    {
     "data": {
      "text/plain": [
       "665"
      ]
     },
     "metadata": {},
     "output_type": "display_data"
    }
   ],
   "source": [
    "debugIO = open(\"write.txt\", \"w+\")\n",
    "logger = ConsoleLogger(debugIO, Debug)\n",
    "global_logger(logger)\n",
    "tr_old, w_old = generate(model, (10,))\n",
    "display(get_choices(tr_old))\n",
    "io = IOBuffer()\n",
    "GenArrow.serialize(io, tr_old)\n",
    "close(debugIO)\n",
    "write_to_file(io)"
   ]
  },
  {
   "cell_type": "code",
   "execution_count": 9,
   "metadata": {},
   "outputs": [
    {
     "name": "stdout",
     "output_type": "stream",
     "text": [
      "GenFunc\n",
      "key: q\n"
     ]
    },
    {
     "ename": "UndefRefError",
     "evalue": "UndefRefError: access to undefined reference",
     "output_type": "error",
     "traceback": [
      "UndefRefError: access to undefined reference\n",
      "\n",
      "Stacktrace:\n",
      "  [1] getindex\n",
      "    @ ./array.jl:924 [inlined]\n",
      "  [2] getindex\n",
      "    @ ./abstractarray.jl:1244 [inlined]\n",
      "  [3] desertag\n",
      "    @ /Applications/Julia-1.8.app/Contents/Resources/julia/share/julia/stdlib/v1.8/Serialization/src/Serialization.jl:100 [inlined]\n",
      "  [4] handle_deserialize(s::Serializer{IOBuffer}, b::Int32)\n",
      "    @ Serialization /Applications/Julia-1.8.app/Contents/Resources/julia/share/julia/stdlib/v1.8/Serialization/src/Serialization.jl:851\n",
      "  [5] deserialize\n",
      "    @ /Applications/Julia-1.8.app/Contents/Resources/julia/share/julia/stdlib/v1.8/Serialization/src/Serialization.jl:813 [inlined]\n",
      "  [6] deserialize\n",
      "    @ /Applications/Julia-1.8.app/Contents/Resources/julia/share/julia/stdlib/v1.8/Serialization/src/Serialization.jl:800 [inlined]\n",
      "  [7] _deserialize_maps(io::IOBuffer)\n",
      "    @ GenArrow ~/Documents/probcomp/GenArrow.jl/src/serialize/deserialize.jl:56\n",
      "  [8] GenArrow.GFDeserializeState(gen_fn::DynamicDSLFunction{Any}, io::IOBuffer, params::Dict{Symbol, Any})\n",
      "    @ GenArrow ~/Documents/probcomp/GenArrow.jl/src/serialize/deserialize.jl:86\n",
      "  [9] _deserialize(gen_fn::DynamicDSLFunction{Any}, io::IOBuffer)\n",
      "    @ GenArrow ~/Documents/probcomp/GenArrow.jl/src/serialize/deserialize.jl:176\n",
      " [10] traceat(state::GenArrow.GFDeserializeState, gen_fn::DynamicDSLFunction{Any}, args::Tuple{String}, key::Symbol)\n",
      "    @ GenArrow ~/Documents/probcomp/GenArrow.jl/src/serialize/deserialize.jl:151\n",
      " [11] var\"##model#316\"(state#314::GenArrow.GFDeserializeState, n::Int64)\n",
      "    @ Main ~/Documents/probcomp/GenArrow.jl/test/unit/s.ipynb:3\n",
      " [12] exec\n",
      "    @ ~/.julia/packages/Gen/Dne3u/src/dynamic/dynamic.jl:58 [inlined]\n",
      " [13] _deserialize(gen_fn::DynamicDSLFunction{Any}, io::IOBuffer)\n",
      "    @ GenArrow ~/Documents/probcomp/GenArrow.jl/src/serialize/deserialize.jl:178\n",
      " [14] top-level scope\n",
      "    @ ~/Documents/probcomp/GenArrow.jl/test/unit/s.ipynb:6"
     ]
    }
   ],
   "source": [
    "debugIO = open(\"read.txt\", \"w+\")\n",
    "logger = ConsoleLogger(debugIO, Debug)\n",
    "global_logger(logger)\n",
    "seekstart(io)\n",
    "try\n",
    "    recovered_tr = GenArrow._deserialize(model, io)\n",
    "    close(debugIO)\n",
    "catch\n",
    "    close(debugIO)\n",
    "    rethrow()\n",
    "end"
   ]
  },
  {
   "cell_type": "code",
   "execution_count": 193,
   "metadata": {},
   "outputs": [
    {
     "data": {
      "text/plain": [
       "BenchmarkTools.Trial: 12 samples with 1 evaluation.\n",
       " Range \u001b[90m(\u001b[39m\u001b[36m\u001b[1mmin\u001b[22m\u001b[39m … \u001b[35mmax\u001b[39m\u001b[90m):  \u001b[39m\u001b[36m\u001b[1m395.810 ms\u001b[22m\u001b[39m … \u001b[35m552.988 ms\u001b[39m  \u001b[90m┊\u001b[39m GC \u001b[90m(\u001b[39mmin … max\u001b[90m): \u001b[39m17.12% … 34.56%\n",
       " Time  \u001b[90m(\u001b[39m\u001b[34m\u001b[1mmedian\u001b[22m\u001b[39m\u001b[90m):     \u001b[39m\u001b[34m\u001b[1m417.206 ms               \u001b[22m\u001b[39m\u001b[90m┊\u001b[39m GC \u001b[90m(\u001b[39mmedian\u001b[90m):    \u001b[39m18.65%\n",
       " Time  \u001b[90m(\u001b[39m\u001b[32m\u001b[1mmean\u001b[22m\u001b[39m ± \u001b[32mσ\u001b[39m\u001b[90m):   \u001b[39m\u001b[32m\u001b[1m431.806 ms\u001b[22m\u001b[39m ± \u001b[32m 46.759 ms\u001b[39m  \u001b[90m┊\u001b[39m GC \u001b[90m(\u001b[39mmean ± σ\u001b[90m):  \u001b[39m21.47% ±  6.32%\n",
       "\n",
       "  \u001b[39m█\u001b[39m \u001b[39m \u001b[39m█\u001b[39m \u001b[39m▁\u001b[39m \u001b[39m \u001b[34m█\u001b[39m\u001b[39m \u001b[39m▁\u001b[39m▁\u001b[39m \u001b[39m \u001b[32m \u001b[39m\u001b[39m▁\u001b[39m \u001b[39m \u001b[39m \u001b[39m \u001b[39m \u001b[39m \u001b[39m \u001b[39m \u001b[39m \u001b[39m \u001b[39m \u001b[39m \u001b[39m \u001b[39m \u001b[39m \u001b[39m \u001b[39m \u001b[39m \u001b[39m \u001b[39m \u001b[39m \u001b[39m \u001b[39m \u001b[39m▁\u001b[39m \u001b[39m \u001b[39m \u001b[39m \u001b[39m \u001b[39m \u001b[39m \u001b[39m \u001b[39m \u001b[39m \u001b[39m \u001b[39m \u001b[39m \u001b[39m \u001b[39m \u001b[39m \u001b[39m \u001b[39m \u001b[39m \u001b[39m \u001b[39m▁\u001b[39m \u001b[39m \n",
       "  \u001b[39m█\u001b[39m▁\u001b[39m▁\u001b[39m█\u001b[39m▁\u001b[39m█\u001b[39m▁\u001b[39m▁\u001b[34m█\u001b[39m\u001b[39m▁\u001b[39m█\u001b[39m█\u001b[39m▁\u001b[39m▁\u001b[32m▁\u001b[39m\u001b[39m█\u001b[39m▁\u001b[39m▁\u001b[39m▁\u001b[39m▁\u001b[39m▁\u001b[39m▁\u001b[39m▁\u001b[39m▁\u001b[39m▁\u001b[39m▁\u001b[39m▁\u001b[39m▁\u001b[39m▁\u001b[39m▁\u001b[39m▁\u001b[39m▁\u001b[39m▁\u001b[39m▁\u001b[39m▁\u001b[39m▁\u001b[39m▁\u001b[39m▁\u001b[39m▁\u001b[39m█\u001b[39m▁\u001b[39m▁\u001b[39m▁\u001b[39m▁\u001b[39m▁\u001b[39m▁\u001b[39m▁\u001b[39m▁\u001b[39m▁\u001b[39m▁\u001b[39m▁\u001b[39m▁\u001b[39m▁\u001b[39m▁\u001b[39m▁\u001b[39m▁\u001b[39m▁\u001b[39m▁\u001b[39m▁\u001b[39m▁\u001b[39m█\u001b[39m \u001b[39m▁\n",
       "  396 ms\u001b[90m           Histogram: frequency by time\u001b[39m          553 ms \u001b[0m\u001b[1m<\u001b[22m\n",
       "\n",
       " Memory estimate\u001b[90m: \u001b[39m\u001b[33m538.28 MiB\u001b[39m, allocs estimate\u001b[90m: \u001b[39m\u001b[33m7479825\u001b[39m."
      ]
     },
     "metadata": {},
     "output_type": "display_data"
    }
   ],
   "source": [
    "function bench()\n",
    "    n = 100000\n",
    "    io = IOBuffer()\n",
    "    (trace, _) = generate(model, (n,))\n",
    "    GenArrow.serialize(io, trace);\n",
    "    seekstart(io)\n",
    "    GenArrow.deserialize(model, io)\n",
    "end\n",
    "@benchmark bench()"
   ]
  },
  {
   "cell_type": "code",
   "execution_count": 152,
   "metadata": {},
   "outputs": [
    {
     "data": {
      "text/plain": [
       "│\n",
       "├── 1\n",
       "│   │\n",
       "│   └── :z : 1.7223728665993139\n",
       "│\n",
       "└── 2\n",
       "    │\n",
       "    └── :z : 1.0282805230588807\n"
      ]
     },
     "metadata": {},
     "output_type": "display_data"
    }
   ],
   "source": [
    "(trace, _) = generate(bar, ([0.0, 0.5], [0.5, 1.0]))\n",
    "(brace, _) = generate(zoo, (5, false, 0.05, 0.95))"
   ]
  },
  {
   "cell_type": "code",
   "execution_count": 205,
   "metadata": {},
   "outputs": [
    {
     "data": {
      "text/plain": [
       "602"
      ]
     },
     "metadata": {},
     "output_type": "display_data"
    }
   ],
   "source": [
    "write_to_file(io)"
   ]
  },
  {
   "cell_type": "code",
   "execution_count": 153,
   "metadata": {},
   "outputs": [],
   "source": [
    "io = GenArrow.serialize(trace);"
   ]
  },
  {
   "cell_type": "code",
   "execution_count": 154,
   "metadata": {},
   "outputs": [
    {
     "name": "stdout",
     "output_type": "stream",
     "text": [
      "leaf count: 1\n",
      "Key: z\n",
      "is trace: false\n",
      "Deserialize Internal Nodes: 0\n",
      "leaf count: 1\n",
      "Key: z\n",
      "is trace: false\n",
      "Deserialize Internal Nodes: 0\n"
     ]
    },
    {
     "data": {
      "text/plain": [
       "Gen.VectorTrace{Gen.MapType, Any, Gen.DynamicDSLTrace}(Map{Any, Gen.DynamicDSLTrace}(DynamicDSLFunction{Any}(Dict{Symbol, Any}(), Dict{Symbol, Any}(), Type[Float64, Float64], false, Union{Nothing, Some{Any}}[nothing, nothing], var\"##foo#384\", Bool[0, 0], false)), Gen.DynamicDSLTrace[Gen.DynamicDSLTrace{DynamicDSLFunction{Any}}(DynamicDSLFunction{Any}(Dict{Symbol, Any}(), Dict{Symbol, Any}(), Type[Float64, Float64], false, Union{Nothing, Some{Any}}[nothing, nothing], var\"##foo#384\", Bool[0, 0], false), Trie{Any, Gen.ChoiceOrCallRecord}(Dict{Any, Gen.ChoiceOrCallRecord}(:z => Gen.ChoiceOrCallRecord{Float64}(1.7223728665993139, -1.6660362457037847, NaN, true)), Dict{Any, Trie{Any, Gen.ChoiceOrCallRecord}}()), false, -1.6660362457037847, 0.0, (0.0, 0.5), 1.7223728665993139), Gen.DynamicDSLTrace{DynamicDSLFunction{Any}}(DynamicDSLFunction{Any}(Dict{Symbol, Any}(), Dict{Symbol, Any}(), Type[Float64, Float64], false, Union{Nothing, Some{Any}}[nothing, nothing], var\"##foo#384\", Bool[0, 0], false), Trie{Any, Gen.ChoiceOrCallRecord}(Dict{Any, Gen.ChoiceOrCallRecord}(:z => Gen.ChoiceOrCallRecord{Float64}(1.0282805230588807, -1.0301981656674744, NaN, true)), Dict{Any, Trie{Any, Gen.ChoiceOrCallRecord}}()), false, -1.0301981656674744, 0.0, (0.5, 1.0), 1.0282805230588807)], Any[1.7223728665993139, 1.0282805230588807], ([0.0, 0.5], [0.5, 1.0]), 2, 2, -2.6962344113712593, 0.0)"
      ]
     },
     "metadata": {},
     "output_type": "display_data"
    }
   ],
   "source": [
    "seekstart(io)\n",
    "recovered_trace = GenArrow.deserialize(bar, io)"
   ]
  },
  {
   "cell_type": "code",
   "execution_count": 6,
   "metadata": {},
   "outputs": [
    {
     "data": {
      "text/plain": [
       "│\n",
       "├── 1\n",
       "│   │\n",
       "│   └── :z : 1.300320394913035\n",
       "│\n",
       "└── 2\n",
       "    │\n",
       "    └── :z : 1.8646730016085349\n"
      ]
     },
     "metadata": {},
     "output_type": "display_data"
    }
   ],
   "source": [
    "display(get_choices(recovered_trace))"
   ]
  },
  {
   "cell_type": "code",
   "execution_count": 168,
   "metadata": {},
   "outputs": [
    {
     "data": {
      "text/plain": [
       "BenchmarkTools.Trial: 5 samples with 1 evaluation.\n",
       " Range \u001b[90m(\u001b[39m\u001b[36m\u001b[1mmin\u001b[22m\u001b[39m … \u001b[35mmax\u001b[39m\u001b[90m):  \u001b[39m\u001b[36m\u001b[1m1.002 s\u001b[22m\u001b[39m … \u001b[35m  1.193 s\u001b[39m  \u001b[90m┊\u001b[39m GC \u001b[90m(\u001b[39mmin … max\u001b[90m): \u001b[39m 7.98% … 22.63%\n",
       " Time  \u001b[90m(\u001b[39m\u001b[34m\u001b[1mmedian\u001b[22m\u001b[39m\u001b[90m):     \u001b[39m\u001b[34m\u001b[1m1.142 s              \u001b[22m\u001b[39m\u001b[90m┊\u001b[39m GC \u001b[90m(\u001b[39mmedian\u001b[90m):    \u001b[39m18.61%\n",
       " Time  \u001b[90m(\u001b[39m\u001b[32m\u001b[1mmean\u001b[22m\u001b[39m ± \u001b[32mσ\u001b[39m\u001b[90m):   \u001b[39m\u001b[32m\u001b[1m1.112 s\u001b[22m\u001b[39m ± \u001b[32m73.457 ms\u001b[39m  \u001b[90m┊\u001b[39m GC \u001b[90m(\u001b[39mmean ± σ\u001b[90m):  \u001b[39m17.07% ±  5.78%\n",
       "\n",
       "  \u001b[39m█\u001b[39m \u001b[39m \u001b[39m \u001b[39m \u001b[39m \u001b[39m \u001b[39m \u001b[39m \u001b[39m \u001b[39m \u001b[39m \u001b[39m \u001b[39m \u001b[39m \u001b[39m \u001b[39m \u001b[39m \u001b[39m \u001b[39m \u001b[39m \u001b[39m \u001b[39m \u001b[34m█\u001b[39m\u001b[39m \u001b[39m \u001b[39m \u001b[39m \u001b[39m \u001b[39m \u001b[39m \u001b[39m \u001b[39m \u001b[32m \u001b[39m\u001b[39m \u001b[39m \u001b[39m \u001b[39m \u001b[39m \u001b[39m \u001b[39m \u001b[39m█\u001b[39m█\u001b[39m \u001b[39m \u001b[39m \u001b[39m \u001b[39m \u001b[39m \u001b[39m \u001b[39m \u001b[39m \u001b[39m \u001b[39m \u001b[39m \u001b[39m \u001b[39m█\u001b[39m \u001b[39m \n",
       "  \u001b[39m█\u001b[39m▁\u001b[39m▁\u001b[39m▁\u001b[39m▁\u001b[39m▁\u001b[39m▁\u001b[39m▁\u001b[39m▁\u001b[39m▁\u001b[39m▁\u001b[39m▁\u001b[39m▁\u001b[39m▁\u001b[39m▁\u001b[39m▁\u001b[39m▁\u001b[39m▁\u001b[39m▁\u001b[39m▁\u001b[39m▁\u001b[39m▁\u001b[39m▁\u001b[34m█\u001b[39m\u001b[39m▁\u001b[39m▁\u001b[39m▁\u001b[39m▁\u001b[39m▁\u001b[39m▁\u001b[39m▁\u001b[39m▁\u001b[39m▁\u001b[32m▁\u001b[39m\u001b[39m▁\u001b[39m▁\u001b[39m▁\u001b[39m▁\u001b[39m▁\u001b[39m▁\u001b[39m▁\u001b[39m█\u001b[39m█\u001b[39m▁\u001b[39m▁\u001b[39m▁\u001b[39m▁\u001b[39m▁\u001b[39m▁\u001b[39m▁\u001b[39m▁\u001b[39m▁\u001b[39m▁\u001b[39m▁\u001b[39m▁\u001b[39m▁\u001b[39m█\u001b[39m \u001b[39m▁\n",
       "  1 s\u001b[90m            Histogram: frequency by time\u001b[39m        1.19 s \u001b[0m\u001b[1m<\u001b[22m\n",
       "\n",
       " Memory estimate\u001b[90m: \u001b[39m\u001b[33m789.92 MiB\u001b[39m, allocs estimate\u001b[90m: \u001b[39m\u001b[33m11136730\u001b[39m."
      ]
     },
     "metadata": {},
     "output_type": "display_data"
    }
   ],
   "source": [
    "function bench()\n",
    "    n=100000\n",
    "    (trace, _) = generate(bar, ([0.5 * i for i=1:n], [0.5*i+0.5 for i=1:n]))\n",
    "    io = GenArrow.serialize(trace);\n",
    "    seekstart(io)\n",
    "    # GenArrow.deserialize(bar, io)\n",
    "end\n",
    "@benchmark bench()"
   ]
  },
  {
   "cell_type": "code",
   "execution_count": 23,
   "metadata": {},
   "outputs": [
    {
     "name": "stdout",
     "output_type": "stream",
     "text": [
      "UInt8[0x37, 0x4a, 0x4c, 0x11, 0x04, 0x00, 0x00, 0x00, 0x21, 0x04, 0x6d, 0x61, 0x6d, 0x61]\n"
     ]
    }
   ],
   "source": [
    "io = IOBuffer()\n",
    "Serialization.serialize(io, \"mama\")\n",
    "println(take!(io))"
   ]
  }
 ],
 "metadata": {
  "kernelspec": {
   "display_name": "Julia 1.8.1",
   "language": "julia",
   "name": "julia-1.8"
  },
  "language_info": {
   "file_extension": ".jl",
   "mimetype": "application/julia",
   "name": "julia",
   "version": "1.8.1"
  },
  "orig_nbformat": 4
 },
 "nbformat": 4,
 "nbformat_minor": 2
}
